{
  "nbformat": 4,
  "nbformat_minor": 0,
  "metadata": {
    "colab": {
      "provenance": [],
      "mount_file_id": "1QfHdmi5jgWRE14HcvzKg4idKKy8lhns7",
      "authorship_tag": "ABX9TyPeIFW8j85Fo8JJXKOa7YEu",
      "include_colab_link": true
    },
    "kernelspec": {
      "name": "python3",
      "display_name": "Python 3"
    },
    "language_info": {
      "name": "python"
    }
  },
  "cells": [
    {
      "cell_type": "markdown",
      "metadata": {
        "id": "view-in-github",
        "colab_type": "text"
      },
      "source": [
        "<a href=\"https://colab.research.google.com/github/Cepeda-R/Machine-Learning_FullProjects/blob/main/Weather_Image_Classification.ipynb\" target=\"_parent\"><img src=\"https://colab.research.google.com/assets/colab-badge.svg\" alt=\"Open In Colab\"/></a>"
      ]
    },
    {
      "cell_type": "markdown",
      "source": [
        "## PREPARE PROJECT | DEPENDENCIES & LOAD DATA"
      ],
      "metadata": {
        "id": "5bSKGiMHFtU2"
      }
    },
    {
      "cell_type": "code",
      "execution_count": 1,
      "metadata": {
        "id": "7ZmdwAhWDEWx",
        "colab": {
          "base_uri": "https://localhost:8080/"
        },
        "outputId": "0e252946-4a1d-4433-ec36-dee623af01ed"
      },
      "outputs": [
        {
          "output_type": "stream",
          "name": "stdout",
          "text": [
            "Looking in indexes: https://pypi.org/simple, https://us-python.pkg.dev/colab-wheels/public/simple/\n",
            "Requirement already satisfied: tensorflow in /usr/local/lib/python3.8/dist-packages (2.9.2)\n",
            "Collecting tensorflow-gpu\n",
            "  Downloading tensorflow_gpu-2.11.0-cp38-cp38-manylinux_2_17_x86_64.manylinux2014_x86_64.whl (588.3 MB)\n",
            "\u001b[K     |████████████████████████████████| 588.3 MB 22 kB/s \n",
            "\u001b[?25hRequirement already satisfied: opencv-python in /usr/local/lib/python3.8/dist-packages (4.6.0.66)\n",
            "Requirement already satisfied: tensorflow-estimator<2.10.0,>=2.9.0rc0 in /usr/local/lib/python3.8/dist-packages (from tensorflow) (2.9.0)\n",
            "Requirement already satisfied: grpcio<2.0,>=1.24.3 in /usr/local/lib/python3.8/dist-packages (from tensorflow) (1.50.0)\n",
            "Requirement already satisfied: gast<=0.4.0,>=0.2.1 in /usr/local/lib/python3.8/dist-packages (from tensorflow) (0.4.0)\n",
            "Requirement already satisfied: packaging in /usr/local/lib/python3.8/dist-packages (from tensorflow) (21.3)\n",
            "Requirement already satisfied: six>=1.12.0 in /usr/local/lib/python3.8/dist-packages (from tensorflow) (1.15.0)\n",
            "Requirement already satisfied: opt-einsum>=2.3.2 in /usr/local/lib/python3.8/dist-packages (from tensorflow) (3.3.0)\n",
            "Requirement already satisfied: flatbuffers<2,>=1.12 in /usr/local/lib/python3.8/dist-packages (from tensorflow) (1.12)\n",
            "Requirement already satisfied: keras-preprocessing>=1.1.1 in /usr/local/lib/python3.8/dist-packages (from tensorflow) (1.1.2)\n",
            "Requirement already satisfied: keras<2.10.0,>=2.9.0rc0 in /usr/local/lib/python3.8/dist-packages (from tensorflow) (2.9.0)\n",
            "Requirement already satisfied: numpy>=1.20 in /usr/local/lib/python3.8/dist-packages (from tensorflow) (1.21.6)\n",
            "Requirement already satisfied: typing-extensions>=3.6.6 in /usr/local/lib/python3.8/dist-packages (from tensorflow) (4.1.1)\n",
            "Requirement already satisfied: libclang>=13.0.0 in /usr/local/lib/python3.8/dist-packages (from tensorflow) (14.0.6)\n",
            "Requirement already satisfied: tensorboard<2.10,>=2.9 in /usr/local/lib/python3.8/dist-packages (from tensorflow) (2.9.1)\n",
            "Requirement already satisfied: astunparse>=1.6.0 in /usr/local/lib/python3.8/dist-packages (from tensorflow) (1.6.3)\n",
            "Requirement already satisfied: absl-py>=1.0.0 in /usr/local/lib/python3.8/dist-packages (from tensorflow) (1.3.0)\n",
            "Requirement already satisfied: setuptools in /usr/local/lib/python3.8/dist-packages (from tensorflow) (57.4.0)\n",
            "Requirement already satisfied: tensorflow-io-gcs-filesystem>=0.23.1 in /usr/local/lib/python3.8/dist-packages (from tensorflow) (0.28.0)\n",
            "Requirement already satisfied: wrapt>=1.11.0 in /usr/local/lib/python3.8/dist-packages (from tensorflow) (1.14.1)\n",
            "Requirement already satisfied: protobuf<3.20,>=3.9.2 in /usr/local/lib/python3.8/dist-packages (from tensorflow) (3.19.6)\n",
            "Requirement already satisfied: h5py>=2.9.0 in /usr/local/lib/python3.8/dist-packages (from tensorflow) (3.1.0)\n",
            "Requirement already satisfied: google-pasta>=0.1.1 in /usr/local/lib/python3.8/dist-packages (from tensorflow) (0.2.0)\n",
            "Requirement already satisfied: termcolor>=1.1.0 in /usr/local/lib/python3.8/dist-packages (from tensorflow) (2.1.1)\n",
            "Requirement already satisfied: wheel<1.0,>=0.23.0 in /usr/local/lib/python3.8/dist-packages (from astunparse>=1.6.0->tensorflow) (0.38.4)\n",
            "Requirement already satisfied: markdown>=2.6.8 in /usr/local/lib/python3.8/dist-packages (from tensorboard<2.10,>=2.9->tensorflow) (3.4.1)\n",
            "Requirement already satisfied: requests<3,>=2.21.0 in /usr/local/lib/python3.8/dist-packages (from tensorboard<2.10,>=2.9->tensorflow) (2.23.0)\n",
            "Requirement already satisfied: werkzeug>=1.0.1 in /usr/local/lib/python3.8/dist-packages (from tensorboard<2.10,>=2.9->tensorflow) (1.0.1)\n",
            "Requirement already satisfied: google-auth-oauthlib<0.5,>=0.4.1 in /usr/local/lib/python3.8/dist-packages (from tensorboard<2.10,>=2.9->tensorflow) (0.4.6)\n",
            "Requirement already satisfied: google-auth<3,>=1.6.3 in /usr/local/lib/python3.8/dist-packages (from tensorboard<2.10,>=2.9->tensorflow) (2.14.1)\n",
            "Requirement already satisfied: tensorboard-plugin-wit>=1.6.0 in /usr/local/lib/python3.8/dist-packages (from tensorboard<2.10,>=2.9->tensorflow) (1.8.1)\n",
            "Requirement already satisfied: tensorboard-data-server<0.7.0,>=0.6.0 in /usr/local/lib/python3.8/dist-packages (from tensorboard<2.10,>=2.9->tensorflow) (0.6.1)\n",
            "Requirement already satisfied: cachetools<6.0,>=2.0.0 in /usr/local/lib/python3.8/dist-packages (from google-auth<3,>=1.6.3->tensorboard<2.10,>=2.9->tensorflow) (5.2.0)\n",
            "Requirement already satisfied: pyasn1-modules>=0.2.1 in /usr/local/lib/python3.8/dist-packages (from google-auth<3,>=1.6.3->tensorboard<2.10,>=2.9->tensorflow) (0.2.8)\n",
            "Requirement already satisfied: rsa<5,>=3.1.4 in /usr/local/lib/python3.8/dist-packages (from google-auth<3,>=1.6.3->tensorboard<2.10,>=2.9->tensorflow) (4.9)\n",
            "Requirement already satisfied: requests-oauthlib>=0.7.0 in /usr/local/lib/python3.8/dist-packages (from google-auth-oauthlib<0.5,>=0.4.1->tensorboard<2.10,>=2.9->tensorflow) (1.3.1)\n",
            "Requirement already satisfied: importlib-metadata>=4.4 in /usr/local/lib/python3.8/dist-packages (from markdown>=2.6.8->tensorboard<2.10,>=2.9->tensorflow) (4.13.0)\n",
            "Requirement already satisfied: zipp>=0.5 in /usr/local/lib/python3.8/dist-packages (from importlib-metadata>=4.4->markdown>=2.6.8->tensorboard<2.10,>=2.9->tensorflow) (3.10.0)\n",
            "Requirement already satisfied: pyasn1<0.5.0,>=0.4.6 in /usr/local/lib/python3.8/dist-packages (from pyasn1-modules>=0.2.1->google-auth<3,>=1.6.3->tensorboard<2.10,>=2.9->tensorflow) (0.4.8)\n",
            "Requirement already satisfied: urllib3!=1.25.0,!=1.25.1,<1.26,>=1.21.1 in /usr/local/lib/python3.8/dist-packages (from requests<3,>=2.21.0->tensorboard<2.10,>=2.9->tensorflow) (1.24.3)\n",
            "Requirement already satisfied: certifi>=2017.4.17 in /usr/local/lib/python3.8/dist-packages (from requests<3,>=2.21.0->tensorboard<2.10,>=2.9->tensorflow) (2022.9.24)\n",
            "Requirement already satisfied: idna<3,>=2.5 in /usr/local/lib/python3.8/dist-packages (from requests<3,>=2.21.0->tensorboard<2.10,>=2.9->tensorflow) (2.10)\n",
            "Requirement already satisfied: chardet<4,>=3.0.2 in /usr/local/lib/python3.8/dist-packages (from requests<3,>=2.21.0->tensorboard<2.10,>=2.9->tensorflow) (3.0.4)\n",
            "Requirement already satisfied: oauthlib>=3.0.0 in /usr/local/lib/python3.8/dist-packages (from requests-oauthlib>=0.7.0->google-auth-oauthlib<0.5,>=0.4.1->tensorboard<2.10,>=2.9->tensorflow) (3.2.2)\n",
            "  Downloading tensorflow_gpu-2.10.1-cp38-cp38-manylinux_2_17_x86_64.manylinux2014_x86_64.whl (578.1 MB)\n",
            "\u001b[K     |████████████████████████████████| 578.1 MB 9.0 kB/s \n",
            "\u001b[?25h  Downloading tensorflow_gpu-2.10.0-cp38-cp38-manylinux_2_17_x86_64.manylinux2014_x86_64.whl (578.1 MB)\n",
            "\u001b[K     |████████████████████████████████| 578.1 MB 7.6 kB/s \n",
            "\u001b[?25h  Downloading tensorflow_gpu-2.9.3-cp38-cp38-manylinux_2_17_x86_64.manylinux2014_x86_64.whl (511.8 MB)\n",
            "\u001b[K     |████████████████████████████████| 511.8 MB 28 kB/s \n",
            "\u001b[?25hRequirement already satisfied: pyparsing!=3.0.5,>=2.0.2 in /usr/local/lib/python3.8/dist-packages (from packaging->tensorflow) (3.0.9)\n",
            "Installing collected packages: tensorflow-gpu\n",
            "Successfully installed tensorflow-gpu-2.9.3\n"
          ]
        }
      ],
      "source": [
        "!pip install tensorflow tensorflow-gpu opencv-python\n",
        "#install dependencies to help treat big data"
      ]
    },
    {
      "cell_type": "code",
      "source": [
        "#big data treatment & Keras API\n",
        "import tensorflow as tf\n",
        "\n",
        "#data treatment (batches)\n",
        "import pandas as pd\n",
        "import numpy as np\n",
        "import cv2 #image translation to array\n",
        "import imghdr #image extension\n",
        "\n",
        "#see images\n",
        "import matplotlib.pyplot as plt\n",
        "\n",
        "#directories\n",
        "import os\n",
        "\n",
        "#misc\n",
        "import warnings\n",
        "warnings.filterwarnings(\"ignore\")\n",
        "%matplotlib inline\n",
        "%config IPCompleter.greedy=True"
      ],
      "metadata": {
        "id": "rGzoq2zLD0k3"
      },
      "execution_count": 2,
      "outputs": []
    },
    {
      "cell_type": "code",
      "source": [
        "data_dir = '/content/drive/MyDrive/#1Weather_ML_Project/dataset'\n",
        "#confirm features\n",
        "os.listdir(data_dir)\n",
        "#confirm sub_features\n",
        "#os.listdir(os.path.join(data_dir, 'fogsmog'))"
      ],
      "metadata": {
        "colab": {
          "base_uri": "https://localhost:8080/"
        },
        "id": "0vPfzkw6F_yv",
        "outputId": "3e64d2d5-40f2-4174-8bcc-3e99acfdf7df"
      },
      "execution_count": 4,
      "outputs": [
        {
          "output_type": "execute_result",
          "data": {
            "text/plain": [
              "['fogsmog',\n",
              " 'lightning',\n",
              " 'rain',\n",
              " 'sandstorm',\n",
              " 'snow',\n",
              " 'cloudy',\n",
              " 'sunny',\n",
              " 'hail',\n",
              " 'frost']"
            ]
          },
          "metadata": {},
          "execution_count": 4
        }
      ]
    },
    {
      "cell_type": "markdown",
      "source": [
        "colocar image todos na mesma dimensão\n",
        "colocar todos com a mesma quantidade"
      ],
      "metadata": {
        "id": "xMP5nkP3RqAC"
      }
    },
    {
      "cell_type": "code",
      "source": [
        "#quantity of files inside feature\n",
        "totalFiles = 0\n",
        "\n",
        "for base, dirs, files in os.walk(data_dir):\n",
        "    for Files in files:\n",
        "        totalFiles += 1\n",
        "    print('Searching in : ', base, totalFiles)\n",
        "    totalFiles = 0"
      ],
      "metadata": {
        "colab": {
          "base_uri": "https://localhost:8080/"
        },
        "id": "ozRYtlhWUEgj",
        "outputId": "a5eb378d-db51-4d83-afd3-86cdb25d8124"
      },
      "execution_count": 5,
      "outputs": [
        {
          "output_type": "stream",
          "name": "stdout",
          "text": [
            "Searching in :  /content/drive/MyDrive/#1Weather_ML_Project/dataset 0\n",
            "Searching in :  /content/drive/MyDrive/#1Weather_ML_Project/dataset/fogsmog 796\n",
            "Searching in :  /content/drive/MyDrive/#1Weather_ML_Project/dataset/lightning 362\n",
            "Searching in :  /content/drive/MyDrive/#1Weather_ML_Project/dataset/rain 502\n",
            "Searching in :  /content/drive/MyDrive/#1Weather_ML_Project/dataset/sandstorm 660\n",
            "Searching in :  /content/drive/MyDrive/#1Weather_ML_Project/dataset/snow 579\n",
            "Searching in :  /content/drive/MyDrive/#1Weather_ML_Project/dataset/cloudy 719\n",
            "Searching in :  /content/drive/MyDrive/#1Weather_ML_Project/dataset/sunny 903\n",
            "Searching in :  /content/drive/MyDrive/#1Weather_ML_Project/dataset/hail 561\n",
            "Searching in :  /content/drive/MyDrive/#1Weather_ML_Project/dataset/frost 458\n"
          ]
        }
      ]
    },
    {
      "cell_type": "markdown",
      "source": [
        "Learning os.remove function"
      ],
      "metadata": {
        "id": "R1ut93Jwppw9"
      }
    },
    {
      "cell_type": "code",
      "source": [
        "#this variable os.listdir point to a directory, not an absolute file\n",
        "a = os.listdir(os.path.join(data_dir, 'sunny'))"
      ],
      "metadata": {
        "id": "32yAbYikhENc"
      },
      "execution_count": 6,
      "outputs": []
    },
    {
      "cell_type": "markdown",
      "source": [
        "absolute path"
      ],
      "metadata": {
        "id": "nv9jpEvIp3Hb"
      }
    },
    {
      "cell_type": "code",
      "source": [
        "#in an absolute string it was able to remove it\n",
        "#os.remove('/content/drive/MyDrive/#1Weather_ML_Project/dataset/fogsmog/4076.jpg')"
      ],
      "metadata": {
        "id": "T0fKMT2AhMHq"
      },
      "execution_count": 7,
      "outputs": []
    },
    {
      "cell_type": "markdown",
      "source": [
        "absolute variable"
      ],
      "metadata": {
        "id": "WytriHJNp5UK"
      }
    },
    {
      "cell_type": "code",
      "source": [
        "#need to try in variable name\n",
        "img_name = '1152.jpg'\n",
        "#absolute path variable\n",
        "image_removable = os.path.join(data_dir, 'sunny', img_name)\n",
        "#os.remove(image_removable)"
      ],
      "metadata": {
        "id": "2SKYEkU8oou7"
      },
      "execution_count": 8,
      "outputs": []
    },
    {
      "cell_type": "code",
      "source": [
        "if os.path.exists(image_removable):\n",
        "    print('yo, it exists')\n",
        "else:\n",
        "    print('where is it??? its not here mate')"
      ],
      "metadata": {
        "colab": {
          "base_uri": "https://localhost:8080/"
        },
        "id": "5TsY7kHxhzwB",
        "outputId": "a8fba126-423f-402c-a5dd-f5e1d78c2832"
      },
      "execution_count": 9,
      "outputs": [
        {
          "output_type": "stream",
          "name": "stdout",
          "text": [
            "where is it??? its not here mate\n"
          ]
        }
      ]
    },
    {
      "cell_type": "code",
      "source": [
        "#used brake to understand concept before erasing data\n",
        "image_exts = ['jpg', 'jpeg']\n",
        "#gave a name for every features and every image\n",
        "for features in os.listdir(data_dir):\n",
        "    for image in os.listdir(os.path.join(data_dir, features)):\n",
        "        image_path = os.path.join(data_dir, features, image)\n",
        "        try:\n",
        "            img = cv2.imread(image_path) #if its not a valid image\n",
        "            ext = imghdr.what(image_path) #if its not a valid extension\n",
        "            if ext not in image_exts:\n",
        "                print('Image not in ext list', format(image_path))\n",
        "                os.remove(image_path)\n",
        "        except:\n",
        "            print('Issue with image', format(image_path))\n",
        "        "
      ],
      "metadata": {
        "id": "HCrKcuarYTQx"
      },
      "execution_count": 10,
      "outputs": []
    },
    {
      "cell_type": "code",
      "source": [
        "#quantity of files inside feature\n",
        "totalFiles_after = 0\n",
        "features_qty = []\n",
        "\n",
        "for base, dirs, files in os.walk(data_dir):\n",
        "    for Files in files:\n",
        "        totalFiles_after += 1\n",
        "    features_qty.append(totalFiles_after)\n",
        "    print('Searching in : ', base, totalFiles_after)\n",
        "    totalFiles_after = 0"
      ],
      "metadata": {
        "colab": {
          "base_uri": "https://localhost:8080/"
        },
        "id": "pDSjfiD2tgKs",
        "outputId": "21ad03f6-ad2f-47de-bd14-f8aa71fc65d8"
      },
      "execution_count": 52,
      "outputs": [
        {
          "output_type": "stream",
          "name": "stdout",
          "text": [
            "Searching in :  /content/drive/MyDrive/#1Weather_ML_Project/dataset 0\n",
            "Searching in :  /content/drive/MyDrive/#1Weather_ML_Project/dataset/fogsmog 796\n",
            "Searching in :  /content/drive/MyDrive/#1Weather_ML_Project/dataset/lightning 362\n",
            "Searching in :  /content/drive/MyDrive/#1Weather_ML_Project/dataset/rain 502\n",
            "Searching in :  /content/drive/MyDrive/#1Weather_ML_Project/dataset/sandstorm 660\n",
            "Searching in :  /content/drive/MyDrive/#1Weather_ML_Project/dataset/snow 579\n",
            "Searching in :  /content/drive/MyDrive/#1Weather_ML_Project/dataset/cloudy 719\n",
            "Searching in :  /content/drive/MyDrive/#1Weather_ML_Project/dataset/sunny 903\n",
            "Searching in :  /content/drive/MyDrive/#1Weather_ML_Project/dataset/hail 561\n",
            "Searching in :  /content/drive/MyDrive/#1Weather_ML_Project/dataset/frost 458\n"
          ]
        }
      ]
    },
    {
      "cell_type": "code",
      "source": [
        "features_qty"
      ],
      "metadata": {
        "colab": {
          "base_uri": "https://localhost:8080/"
        },
        "id": "D6iDHMwCkDAq",
        "outputId": "681aae4c-a5e1-4ea5-d293-06a00ec590cf"
      },
      "execution_count": 53,
      "outputs": [
        {
          "output_type": "execute_result",
          "data": {
            "text/plain": [
              "[0, 796, 362, 502, 660, 579, 719, 903, 561, 458]"
            ]
          },
          "metadata": {},
          "execution_count": 53
        }
      ]
    },
    {
      "cell_type": "code",
      "source": [
        "features_qty = features_qty[1:]\n",
        "features_average = int(np.mean(features_qty))"
      ],
      "metadata": {
        "id": "OnWjS-gCkk5B"
      },
      "execution_count": 54,
      "outputs": []
    },
    {
      "cell_type": "code",
      "source": [
        "features_average"
      ],
      "metadata": {
        "colab": {
          "base_uri": "https://localhost:8080/"
        },
        "id": "zhBiAL_RpGEh",
        "outputId": "13057388-4c76-4e8c-c9a8-4d94f56f3a75"
      },
      "execution_count": 55,
      "outputs": [
        {
          "output_type": "execute_result",
          "data": {
            "text/plain": [
              "615"
            ]
          },
          "metadata": {},
          "execution_count": 55
        }
      ]
    },
    {
      "cell_type": "code",
      "source": [
        "feature_name = os.listdir(data_dir)\n",
        "\n",
        "iles = os.listdir('path/to/your/folder')\n",
        "for file in files[:11]:\n",
        "    os.remove(file)"
      ],
      "metadata": {
        "id": "p1Z2B5d4jytL"
      },
      "execution_count": 56,
      "outputs": []
    },
    {
      "cell_type": "code",
      "source": [
        "features_qty_before = features_qty"
      ],
      "metadata": {
        "id": "MrvXyn3xtrzJ"
      },
      "execution_count": 66,
      "outputs": []
    },
    {
      "cell_type": "code",
      "source": [
        "features_qty_before"
      ],
      "metadata": {
        "colab": {
          "base_uri": "https://localhost:8080/"
        },
        "id": "yo5J8prYtwcU",
        "outputId": "d044f5c0-931e-46f6-dd0d-078258b42da5"
      },
      "execution_count": 67,
      "outputs": [
        {
          "output_type": "execute_result",
          "data": {
            "text/plain": [
              "[796, 362, 502, 660, 579, 719, 903, 561, 458]"
            ]
          },
          "metadata": {},
          "execution_count": 67
        }
      ]
    },
    {
      "cell_type": "code",
      "source": [
        "from random import sample\n",
        "\n",
        "#for loop to remove randomly files from features above average\n",
        "for index, values in enumerate(features_qty):\n",
        "    if values > features_average:\n",
        "        print (values, feature_name[index])\n",
        "        #define the index feature and place it in OS\n",
        "        files_to_remove_dir = os.path.join(data_dir, feature_name[index])\n",
        "        files_to_remove_os = os.listdir(files_to_remove_dir)\n",
        "        #define the amount to remove by feature\n",
        "        amount_to_remove = int(values-features_average)\n",
        "        print(amount_to_remove)\n",
        "        #removing the amount define beforehand in a for loop\n",
        "        for image_to_remove in sample(files_to_remove_os, amount_to_remove):\n",
        "            print('it will be removed', image_to_remove)\n",
        "            #apply image name into path to be removed\n",
        "            img_to_rmv_path_dir = os.path.join(files_to_remove_dir, image_to_remove)\n",
        "            print(img_to_rmv_path_dir)\n",
        "            os.remove(img_to_rmv_path_dir)"
      ],
      "metadata": {
        "colab": {
          "base_uri": "https://localhost:8080/",
          "height": 288
        },
        "id": "n7z1J2_xjjTw",
        "outputId": "82830d24-86cc-44c5-952c-4136a34c8182"
      },
      "execution_count": 72,
      "outputs": [
        {
          "output_type": "stream",
          "name": "stdout",
          "text": [
            "796 fogsmog\n",
            "181\n",
            "it will be removed 4305.jpg\n"
          ]
        },
        {
          "output_type": "error",
          "ename": "NotADirectoryError",
          "evalue": "ignored",
          "traceback": [
            "\u001b[0;31m---------------------------------------------------------------------------\u001b[0m",
            "\u001b[0;31mNotADirectoryError\u001b[0m                        Traceback (most recent call last)",
            "\u001b[0;32m<ipython-input-72-978cda80ebed>\u001b[0m in \u001b[0;36m<module>\u001b[0;34m\u001b[0m\n\u001b[1;32m     16\u001b[0m             \u001b[0;31m#apply image name into path to be removed\u001b[0m\u001b[0;34m\u001b[0m\u001b[0;34m\u001b[0m\u001b[0;34m\u001b[0m\u001b[0m\n\u001b[1;32m     17\u001b[0m             \u001b[0mimg_to_rmv_path_dir\u001b[0m \u001b[0;34m=\u001b[0m \u001b[0mos\u001b[0m\u001b[0;34m.\u001b[0m\u001b[0mpath\u001b[0m\u001b[0;34m.\u001b[0m\u001b[0mjoin\u001b[0m\u001b[0;34m(\u001b[0m\u001b[0mfiles_to_remove_dir\u001b[0m\u001b[0;34m,\u001b[0m \u001b[0mimage_to_remove\u001b[0m\u001b[0;34m)\u001b[0m\u001b[0;34m\u001b[0m\u001b[0;34m\u001b[0m\u001b[0m\n\u001b[0;32m---> 18\u001b[0;31m             \u001b[0mimg_to_rmv_path_os\u001b[0m \u001b[0;34m=\u001b[0m \u001b[0mos\u001b[0m\u001b[0;34m.\u001b[0m\u001b[0mlistdir\u001b[0m\u001b[0;34m(\u001b[0m\u001b[0mimg_to_rmv_path_dir\u001b[0m\u001b[0;34m)\u001b[0m\u001b[0;34m\u001b[0m\u001b[0;34m\u001b[0m\u001b[0m\n\u001b[0m\u001b[1;32m     19\u001b[0m             \u001b[0mprint\u001b[0m\u001b[0;34m(\u001b[0m\u001b[0mimg_to_rmv_path_os\u001b[0m\u001b[0;34m)\u001b[0m\u001b[0;34m\u001b[0m\u001b[0;34m\u001b[0m\u001b[0m\n\u001b[1;32m     20\u001b[0m             \u001b[0;31m#os.remove(image_to_remove)\u001b[0m\u001b[0;34m\u001b[0m\u001b[0;34m\u001b[0m\u001b[0;34m\u001b[0m\u001b[0m\n",
            "\u001b[0;31mNotADirectoryError\u001b[0m: [Errno 20] Not a directory: '/content/drive/MyDrive/#1Weather_ML_Project/dataset/fogsmog/4305.jpg'"
          ]
        }
      ]
    },
    {
      "cell_type": "code",
      "source": [
        "files_to_remove"
      ],
      "metadata": {
        "colab": {
          "base_uri": "https://localhost:8080/",
          "height": 35
        },
        "id": "JF7YgBfmsHZf",
        "outputId": "97285c0e-485d-478b-942e-3e6e79ba5aa2"
      },
      "execution_count": 62,
      "outputs": [
        {
          "output_type": "execute_result",
          "data": {
            "text/plain": [
              "'/content/drive/MyDrive/#1Weather_ML_Project/dataset/fogsmog'"
            ],
            "application/vnd.google.colaboratory.intrinsic+json": {
              "type": "string"
            }
          },
          "metadata": {},
          "execution_count": 62
        }
      ]
    },
    {
      "cell_type": "code",
      "source": [
        "from random import sample\n",
        "\n",
        "files = os.listdir('path/to/your/folder')\n",
        "for file in sample(files,11):\n",
        "    os.remove(file)"
      ],
      "metadata": {
        "id": "6G_OqSkUnW39"
      },
      "execution_count": null,
      "outputs": []
    },
    {
      "cell_type": "code",
      "source": [
        "from random import sample\n",
        "\n",
        "files = os.listdir('path/to/your/folder')\n",
        "for file in sample(files,11):\n",
        "    os.remove(file)"
      ],
      "metadata": {
        "id": "xjDNZm5I4Dqs"
      },
      "execution_count": null,
      "outputs": []
    },
    {
      "cell_type": "code",
      "source": [
        "# for feature in stuff:\n",
        "    #if stuff[:] > 695:\n",
        "        #files = os.listdir('path/to/your/folder')\n",
        "        #for file in sample(files,11):\n",
        "        #os.remove(file)\n",
        "    #else:\n",
        "        #print('feature is bellow')\n"
      ],
      "metadata": {
        "id": "dIPb_FL934Ti"
      },
      "execution_count": null,
      "outputs": []
    },
    {
      "cell_type": "markdown",
      "source": [],
      "metadata": {
        "id": "9gIfZ90K1ELE"
      }
    },
    {
      "cell_type": "code",
      "source": [
        "average = (796+362+502+660+579+719+903+561+458)/9"
      ],
      "metadata": {
        "colab": {
          "base_uri": "https://localhost:8080/"
        },
        "id": "9yVuKpPlfkeW",
        "outputId": "d14b751a-8a5b-4950-f1e4-cd87d343ca3c"
      },
      "execution_count": null,
      "outputs": [
        {
          "output_type": "execute_result",
          "data": {
            "text/plain": [
              "615.5555555555555"
            ]
          },
          "metadata": {},
          "execution_count": 56
        }
      ]
    },
    {
      "cell_type": "code",
      "source": [],
      "metadata": {
        "id": "pQAAtc4z2bz-"
      },
      "execution_count": null,
      "outputs": []
    },
    {
      "cell_type": "code",
      "source": [
        "fogsmog_path = os.path.join(data_dir, 'fogsmog')\n",
        "lightning_path = os.path.join(data_dir, 'lightning')\n",
        "rain_path = os.path.join(data_dir, 'rain')\n",
        "sandstorm_path = os.path.join(data_dir, 'sandstorm')\n",
        "snow_path = os.path.join(data_dir, 'snow')\n",
        "cloudy_path = os.path.join(data_dir, 'cloudy')\n",
        "sunny_path = os.path.join(data_dir, 'sunny')\n",
        "hail_path = os.path.join(data_dir, 'hail')\n",
        "frost_path = os.path.join(data_dir, 'frost')\n"
      ],
      "metadata": {
        "id": "vtEDT_GU0rgt"
      },
      "execution_count": null,
      "outputs": []
    }
  ]
}