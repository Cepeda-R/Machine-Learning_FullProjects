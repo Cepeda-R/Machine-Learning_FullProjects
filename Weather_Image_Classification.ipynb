{
  "nbformat": 4,
  "nbformat_minor": 0,
  "metadata": {
    "colab": {
      "provenance": [],
      "mount_file_id": "1QfHdmi5jgWRE14HcvzKg4idKKy8lhns7",
      "authorship_tag": "ABX9TyNB9xMZh4QHBN1mw3CYC7qd",
      "include_colab_link": true
    },
    "kernelspec": {
      "name": "python3",
      "display_name": "Python 3"
    },
    "language_info": {
      "name": "python"
    }
  },
  "cells": [
    {
      "cell_type": "markdown",
      "metadata": {
        "id": "view-in-github",
        "colab_type": "text"
      },
      "source": [
        "<a href=\"https://colab.research.google.com/github/Cepeda-R/Machine-Learning_FullProjects/blob/main/Weather_Image_Classification.ipynb\" target=\"_parent\"><img src=\"https://colab.research.google.com/assets/colab-badge.svg\" alt=\"Open In Colab\"/></a>"
      ]
    },
    {
      "cell_type": "markdown",
      "source": [
        "## PREPARE PROJECT | DEPENDENCIES & LOAD DATA"
      ],
      "metadata": {
        "id": "5bSKGiMHFtU2"
      }
    },
    {
      "cell_type": "code",
      "execution_count": 1,
      "metadata": {
        "id": "7ZmdwAhWDEWx",
        "colab": {
          "base_uri": "https://localhost:8080/"
        },
        "outputId": "0e252946-4a1d-4433-ec36-dee623af01ed"
      },
      "outputs": [
        {
          "output_type": "stream",
          "name": "stdout",
          "text": [
            "Looking in indexes: https://pypi.org/simple, https://us-python.pkg.dev/colab-wheels/public/simple/\n",
            "Requirement already satisfied: tensorflow in /usr/local/lib/python3.8/dist-packages (2.9.2)\n",
            "Collecting tensorflow-gpu\n",
            "  Downloading tensorflow_gpu-2.11.0-cp38-cp38-manylinux_2_17_x86_64.manylinux2014_x86_64.whl (588.3 MB)\n",
            "\u001b[K     |████████████████████████████████| 588.3 MB 22 kB/s \n",
            "\u001b[?25hRequirement already satisfied: opencv-python in /usr/local/lib/python3.8/dist-packages (4.6.0.66)\n",
            "Requirement already satisfied: tensorflow-estimator<2.10.0,>=2.9.0rc0 in /usr/local/lib/python3.8/dist-packages (from tensorflow) (2.9.0)\n",
            "Requirement already satisfied: grpcio<2.0,>=1.24.3 in /usr/local/lib/python3.8/dist-packages (from tensorflow) (1.50.0)\n",
            "Requirement already satisfied: gast<=0.4.0,>=0.2.1 in /usr/local/lib/python3.8/dist-packages (from tensorflow) (0.4.0)\n",
            "Requirement already satisfied: packaging in /usr/local/lib/python3.8/dist-packages (from tensorflow) (21.3)\n",
            "Requirement already satisfied: six>=1.12.0 in /usr/local/lib/python3.8/dist-packages (from tensorflow) (1.15.0)\n",
            "Requirement already satisfied: opt-einsum>=2.3.2 in /usr/local/lib/python3.8/dist-packages (from tensorflow) (3.3.0)\n",
            "Requirement already satisfied: flatbuffers<2,>=1.12 in /usr/local/lib/python3.8/dist-packages (from tensorflow) (1.12)\n",
            "Requirement already satisfied: keras-preprocessing>=1.1.1 in /usr/local/lib/python3.8/dist-packages (from tensorflow) (1.1.2)\n",
            "Requirement already satisfied: keras<2.10.0,>=2.9.0rc0 in /usr/local/lib/python3.8/dist-packages (from tensorflow) (2.9.0)\n",
            "Requirement already satisfied: numpy>=1.20 in /usr/local/lib/python3.8/dist-packages (from tensorflow) (1.21.6)\n",
            "Requirement already satisfied: typing-extensions>=3.6.6 in /usr/local/lib/python3.8/dist-packages (from tensorflow) (4.1.1)\n",
            "Requirement already satisfied: libclang>=13.0.0 in /usr/local/lib/python3.8/dist-packages (from tensorflow) (14.0.6)\n",
            "Requirement already satisfied: tensorboard<2.10,>=2.9 in /usr/local/lib/python3.8/dist-packages (from tensorflow) (2.9.1)\n",
            "Requirement already satisfied: astunparse>=1.6.0 in /usr/local/lib/python3.8/dist-packages (from tensorflow) (1.6.3)\n",
            "Requirement already satisfied: absl-py>=1.0.0 in /usr/local/lib/python3.8/dist-packages (from tensorflow) (1.3.0)\n",
            "Requirement already satisfied: setuptools in /usr/local/lib/python3.8/dist-packages (from tensorflow) (57.4.0)\n",
            "Requirement already satisfied: tensorflow-io-gcs-filesystem>=0.23.1 in /usr/local/lib/python3.8/dist-packages (from tensorflow) (0.28.0)\n",
            "Requirement already satisfied: wrapt>=1.11.0 in /usr/local/lib/python3.8/dist-packages (from tensorflow) (1.14.1)\n",
            "Requirement already satisfied: protobuf<3.20,>=3.9.2 in /usr/local/lib/python3.8/dist-packages (from tensorflow) (3.19.6)\n",
            "Requirement already satisfied: h5py>=2.9.0 in /usr/local/lib/python3.8/dist-packages (from tensorflow) (3.1.0)\n",
            "Requirement already satisfied: google-pasta>=0.1.1 in /usr/local/lib/python3.8/dist-packages (from tensorflow) (0.2.0)\n",
            "Requirement already satisfied: termcolor>=1.1.0 in /usr/local/lib/python3.8/dist-packages (from tensorflow) (2.1.1)\n",
            "Requirement already satisfied: wheel<1.0,>=0.23.0 in /usr/local/lib/python3.8/dist-packages (from astunparse>=1.6.0->tensorflow) (0.38.4)\n",
            "Requirement already satisfied: markdown>=2.6.8 in /usr/local/lib/python3.8/dist-packages (from tensorboard<2.10,>=2.9->tensorflow) (3.4.1)\n",
            "Requirement already satisfied: requests<3,>=2.21.0 in /usr/local/lib/python3.8/dist-packages (from tensorboard<2.10,>=2.9->tensorflow) (2.23.0)\n",
            "Requirement already satisfied: werkzeug>=1.0.1 in /usr/local/lib/python3.8/dist-packages (from tensorboard<2.10,>=2.9->tensorflow) (1.0.1)\n",
            "Requirement already satisfied: google-auth-oauthlib<0.5,>=0.4.1 in /usr/local/lib/python3.8/dist-packages (from tensorboard<2.10,>=2.9->tensorflow) (0.4.6)\n",
            "Requirement already satisfied: google-auth<3,>=1.6.3 in /usr/local/lib/python3.8/dist-packages (from tensorboard<2.10,>=2.9->tensorflow) (2.14.1)\n",
            "Requirement already satisfied: tensorboard-plugin-wit>=1.6.0 in /usr/local/lib/python3.8/dist-packages (from tensorboard<2.10,>=2.9->tensorflow) (1.8.1)\n",
            "Requirement already satisfied: tensorboard-data-server<0.7.0,>=0.6.0 in /usr/local/lib/python3.8/dist-packages (from tensorboard<2.10,>=2.9->tensorflow) (0.6.1)\n",
            "Requirement already satisfied: cachetools<6.0,>=2.0.0 in /usr/local/lib/python3.8/dist-packages (from google-auth<3,>=1.6.3->tensorboard<2.10,>=2.9->tensorflow) (5.2.0)\n",
            "Requirement already satisfied: pyasn1-modules>=0.2.1 in /usr/local/lib/python3.8/dist-packages (from google-auth<3,>=1.6.3->tensorboard<2.10,>=2.9->tensorflow) (0.2.8)\n",
            "Requirement already satisfied: rsa<5,>=3.1.4 in /usr/local/lib/python3.8/dist-packages (from google-auth<3,>=1.6.3->tensorboard<2.10,>=2.9->tensorflow) (4.9)\n",
            "Requirement already satisfied: requests-oauthlib>=0.7.0 in /usr/local/lib/python3.8/dist-packages (from google-auth-oauthlib<0.5,>=0.4.1->tensorboard<2.10,>=2.9->tensorflow) (1.3.1)\n",
            "Requirement already satisfied: importlib-metadata>=4.4 in /usr/local/lib/python3.8/dist-packages (from markdown>=2.6.8->tensorboard<2.10,>=2.9->tensorflow) (4.13.0)\n",
            "Requirement already satisfied: zipp>=0.5 in /usr/local/lib/python3.8/dist-packages (from importlib-metadata>=4.4->markdown>=2.6.8->tensorboard<2.10,>=2.9->tensorflow) (3.10.0)\n",
            "Requirement already satisfied: pyasn1<0.5.0,>=0.4.6 in /usr/local/lib/python3.8/dist-packages (from pyasn1-modules>=0.2.1->google-auth<3,>=1.6.3->tensorboard<2.10,>=2.9->tensorflow) (0.4.8)\n",
            "Requirement already satisfied: urllib3!=1.25.0,!=1.25.1,<1.26,>=1.21.1 in /usr/local/lib/python3.8/dist-packages (from requests<3,>=2.21.0->tensorboard<2.10,>=2.9->tensorflow) (1.24.3)\n",
            "Requirement already satisfied: certifi>=2017.4.17 in /usr/local/lib/python3.8/dist-packages (from requests<3,>=2.21.0->tensorboard<2.10,>=2.9->tensorflow) (2022.9.24)\n",
            "Requirement already satisfied: idna<3,>=2.5 in /usr/local/lib/python3.8/dist-packages (from requests<3,>=2.21.0->tensorboard<2.10,>=2.9->tensorflow) (2.10)\n",
            "Requirement already satisfied: chardet<4,>=3.0.2 in /usr/local/lib/python3.8/dist-packages (from requests<3,>=2.21.0->tensorboard<2.10,>=2.9->tensorflow) (3.0.4)\n",
            "Requirement already satisfied: oauthlib>=3.0.0 in /usr/local/lib/python3.8/dist-packages (from requests-oauthlib>=0.7.0->google-auth-oauthlib<0.5,>=0.4.1->tensorboard<2.10,>=2.9->tensorflow) (3.2.2)\n",
            "  Downloading tensorflow_gpu-2.10.1-cp38-cp38-manylinux_2_17_x86_64.manylinux2014_x86_64.whl (578.1 MB)\n",
            "\u001b[K     |████████████████████████████████| 578.1 MB 9.0 kB/s \n",
            "\u001b[?25h  Downloading tensorflow_gpu-2.10.0-cp38-cp38-manylinux_2_17_x86_64.manylinux2014_x86_64.whl (578.1 MB)\n",
            "\u001b[K     |████████████████████████████████| 578.1 MB 7.6 kB/s \n",
            "\u001b[?25h  Downloading tensorflow_gpu-2.9.3-cp38-cp38-manylinux_2_17_x86_64.manylinux2014_x86_64.whl (511.8 MB)\n",
            "\u001b[K     |████████████████████████████████| 511.8 MB 28 kB/s \n",
            "\u001b[?25hRequirement already satisfied: pyparsing!=3.0.5,>=2.0.2 in /usr/local/lib/python3.8/dist-packages (from packaging->tensorflow) (3.0.9)\n",
            "Installing collected packages: tensorflow-gpu\n",
            "Successfully installed tensorflow-gpu-2.9.3\n"
          ]
        }
      ],
      "source": [
        "!pip install tensorflow tensorflow-gpu opencv-python\n",
        "#install dependencies to help treat big data"
      ]
    },
    {
      "cell_type": "code",
      "source": [
        "#big data treatment & Keras API\n",
        "import tensorflow as tf\n",
        "\n",
        "#data treatment (batches)\n",
        "import pandas as pd\n",
        "import numpy as np\n",
        "import cv2 #image translation to array\n",
        "import imghdr #image extension\n",
        "\n",
        "#see images\n",
        "import matplotlib.pyplot as plt\n",
        "\n",
        "#directories\n",
        "import os\n",
        "\n",
        "#misc\n",
        "import warnings\n",
        "warnings.filterwarnings(\"ignore\")\n",
        "%matplotlib inline\n",
        "%config IPCompleter.greedy=True"
      ],
      "metadata": {
        "id": "rGzoq2zLD0k3"
      },
      "execution_count": 2,
      "outputs": []
    },
    {
      "cell_type": "code",
      "source": [
        "data_dir = '/content/drive/MyDrive/#1Weather_ML_Project/dataset'\n",
        "#confirm features\n",
        "os.listdir(data_dir)\n",
        "#confirm sub_features\n",
        "#os.listdir(os.path.join(data_dir, 'fogsmog'))"
      ],
      "metadata": {
        "colab": {
          "base_uri": "https://localhost:8080/"
        },
        "id": "0vPfzkw6F_yv",
        "outputId": "3e64d2d5-40f2-4174-8bcc-3e99acfdf7df"
      },
      "execution_count": 4,
      "outputs": [
        {
          "output_type": "execute_result",
          "data": {
            "text/plain": [
              "['fogsmog',\n",
              " 'lightning',\n",
              " 'rain',\n",
              " 'sandstorm',\n",
              " 'snow',\n",
              " 'cloudy',\n",
              " 'sunny',\n",
              " 'hail',\n",
              " 'frost']"
            ]
          },
          "metadata": {},
          "execution_count": 4
        }
      ]
    },
    {
      "cell_type": "markdown",
      "source": [
        "colocar image todos na mesma dimensão\n",
        "colocar todos com a mesma quantidade"
      ],
      "metadata": {
        "id": "xMP5nkP3RqAC"
      }
    },
    {
      "cell_type": "code",
      "source": [
        "#quantity of files inside feature\n",
        "totalFiles = 0\n",
        "\n",
        "for base, dirs, files in os.walk(data_dir):\n",
        "    for Files in files:\n",
        "        totalFiles += 1\n",
        "    print('Searching in : ', base, totalFiles)\n",
        "    totalFiles = 0"
      ],
      "metadata": {
        "colab": {
          "base_uri": "https://localhost:8080/"
        },
        "id": "ozRYtlhWUEgj",
        "outputId": "a5eb378d-db51-4d83-afd3-86cdb25d8124"
      },
      "execution_count": 5,
      "outputs": [
        {
          "output_type": "stream",
          "name": "stdout",
          "text": [
            "Searching in :  /content/drive/MyDrive/#1Weather_ML_Project/dataset 0\n",
            "Searching in :  /content/drive/MyDrive/#1Weather_ML_Project/dataset/fogsmog 796\n",
            "Searching in :  /content/drive/MyDrive/#1Weather_ML_Project/dataset/lightning 362\n",
            "Searching in :  /content/drive/MyDrive/#1Weather_ML_Project/dataset/rain 502\n",
            "Searching in :  /content/drive/MyDrive/#1Weather_ML_Project/dataset/sandstorm 660\n",
            "Searching in :  /content/drive/MyDrive/#1Weather_ML_Project/dataset/snow 579\n",
            "Searching in :  /content/drive/MyDrive/#1Weather_ML_Project/dataset/cloudy 719\n",
            "Searching in :  /content/drive/MyDrive/#1Weather_ML_Project/dataset/sunny 903\n",
            "Searching in :  /content/drive/MyDrive/#1Weather_ML_Project/dataset/hail 561\n",
            "Searching in :  /content/drive/MyDrive/#1Weather_ML_Project/dataset/frost 458\n"
          ]
        }
      ]
    },
    {
      "cell_type": "markdown",
      "source": [
        "Learning os.remove function"
      ],
      "metadata": {
        "id": "R1ut93Jwppw9"
      }
    },
    {
      "cell_type": "code",
      "source": [
        "#this variable os.listdir point to a directory, not an absolute file\n",
        "a = os.listdir(os.path.join(data_dir, 'sunny'))"
      ],
      "metadata": {
        "id": "32yAbYikhENc"
      },
      "execution_count": 6,
      "outputs": []
    },
    {
      "cell_type": "markdown",
      "source": [
        "absolute path"
      ],
      "metadata": {
        "id": "nv9jpEvIp3Hb"
      }
    },
    {
      "cell_type": "code",
      "source": [
        "#in an absolute string it was able to remove it\n",
        "#os.remove('/content/drive/MyDrive/#1Weather_ML_Project/dataset/fogsmog/4076.jpg')"
      ],
      "metadata": {
        "id": "T0fKMT2AhMHq"
      },
      "execution_count": 7,
      "outputs": []
    },
    {
      "cell_type": "markdown",
      "source": [
        "absolute variable"
      ],
      "metadata": {
        "id": "WytriHJNp5UK"
      }
    },
    {
      "cell_type": "code",
      "source": [
        "#need to try in variable name\n",
        "img_name = '1152.jpg'\n",
        "#absolute path variable\n",
        "image_removable = os.path.join(data_dir, 'sunny', img_name)\n",
        "#os.remove(image_removable)"
      ],
      "metadata": {
        "id": "2SKYEkU8oou7"
      },
      "execution_count": 8,
      "outputs": []
    },
    {
      "cell_type": "code",
      "source": [
        "if os.path.exists(image_removable):\n",
        "    print('yo, it exists')\n",
        "else:\n",
        "    print('where is it??? its not here mate')"
      ],
      "metadata": {
        "colab": {
          "base_uri": "https://localhost:8080/"
        },
        "id": "5TsY7kHxhzwB",
        "outputId": "a8fba126-423f-402c-a5dd-f5e1d78c2832"
      },
      "execution_count": 9,
      "outputs": [
        {
          "output_type": "stream",
          "name": "stdout",
          "text": [
            "where is it??? its not here mate\n"
          ]
        }
      ]
    },
    {
      "cell_type": "code",
      "source": [
        "#used brake to understand concept before erasing data\n",
        "image_exts = ['jpg', 'jpeg']\n",
        "#gave a name for every features and every image\n",
        "for features in os.listdir(data_dir):\n",
        "    for image in os.listdir(os.path.join(data_dir, features)):\n",
        "        image_path = os.path.join(data_dir, features, image)\n",
        "        try:\n",
        "            img = cv2.imread(image_path) #if its not a valid image\n",
        "            ext = imghdr.what(image_path) #if its not a valid extension\n",
        "            if ext not in image_exts:\n",
        "                print('Image not in ext list', format(image_path))\n",
        "                os.remove(image_path)\n",
        "        except:\n",
        "            print('Issue with image', format(image_path))\n",
        "        "
      ],
      "metadata": {
        "id": "HCrKcuarYTQx"
      },
      "execution_count": 10,
      "outputs": []
    },
    {
      "cell_type": "code",
      "source": [
        "#quantity of files inside feature\n",
        "totalFiles_after = 0\n",
        "features_qty = []\n",
        "\n",
        "for base, dirs, files in os.walk(data_dir):\n",
        "    for Files in files:\n",
        "        totalFiles_after += 1\n",
        "    features_qty.append(totalFiles_after)\n",
        "    print('Searching in : ', base, totalFiles_after)\n",
        "    totalFiles_after = 0"
      ],
      "metadata": {
        "colab": {
          "base_uri": "https://localhost:8080/"
        },
        "id": "pDSjfiD2tgKs",
        "outputId": "21ad03f6-ad2f-47de-bd14-f8aa71fc65d8"
      },
      "execution_count": 52,
      "outputs": [
        {
          "output_type": "stream",
          "name": "stdout",
          "text": [
            "Searching in :  /content/drive/MyDrive/#1Weather_ML_Project/dataset 0\n",
            "Searching in :  /content/drive/MyDrive/#1Weather_ML_Project/dataset/fogsmog 796\n",
            "Searching in :  /content/drive/MyDrive/#1Weather_ML_Project/dataset/lightning 362\n",
            "Searching in :  /content/drive/MyDrive/#1Weather_ML_Project/dataset/rain 502\n",
            "Searching in :  /content/drive/MyDrive/#1Weather_ML_Project/dataset/sandstorm 660\n",
            "Searching in :  /content/drive/MyDrive/#1Weather_ML_Project/dataset/snow 579\n",
            "Searching in :  /content/drive/MyDrive/#1Weather_ML_Project/dataset/cloudy 719\n",
            "Searching in :  /content/drive/MyDrive/#1Weather_ML_Project/dataset/sunny 903\n",
            "Searching in :  /content/drive/MyDrive/#1Weather_ML_Project/dataset/hail 561\n",
            "Searching in :  /content/drive/MyDrive/#1Weather_ML_Project/dataset/frost 458\n"
          ]
        }
      ]
    },
    {
      "cell_type": "code",
      "source": [
        "features_qty"
      ],
      "metadata": {
        "colab": {
          "base_uri": "https://localhost:8080/"
        },
        "id": "D6iDHMwCkDAq",
        "outputId": "681aae4c-a5e1-4ea5-d293-06a00ec590cf"
      },
      "execution_count": 53,
      "outputs": [
        {
          "output_type": "execute_result",
          "data": {
            "text/plain": [
              "[0, 796, 362, 502, 660, 579, 719, 903, 561, 458]"
            ]
          },
          "metadata": {},
          "execution_count": 53
        }
      ]
    },
    {
      "cell_type": "code",
      "source": [
        "features_qty = features_qty[1:]\n",
        "features_average = int(np.mean(features_qty))"
      ],
      "metadata": {
        "id": "OnWjS-gCkk5B"
      },
      "execution_count": 54,
      "outputs": []
    },
    {
      "cell_type": "code",
      "source": [
        "features_average"
      ],
      "metadata": {
        "colab": {
          "base_uri": "https://localhost:8080/"
        },
        "id": "zhBiAL_RpGEh",
        "outputId": "13057388-4c76-4e8c-c9a8-4d94f56f3a75"
      },
      "execution_count": 55,
      "outputs": [
        {
          "output_type": "execute_result",
          "data": {
            "text/plain": [
              "615"
            ]
          },
          "metadata": {},
          "execution_count": 55
        }
      ]
    },
    {
      "cell_type": "code",
      "source": [
        "feature_name = os.listdir(data_dir)\n",
        "\n",
        "iles = os.listdir('path/to/your/folder')\n",
        "for file in files[:11]:\n",
        "    os.remove(file)"
      ],
      "metadata": {
        "id": "p1Z2B5d4jytL"
      },
      "execution_count": 56,
      "outputs": []
    },
    {
      "cell_type": "code",
      "source": [
        "features_qty_before = features_qty"
      ],
      "metadata": {
        "id": "MrvXyn3xtrzJ"
      },
      "execution_count": 66,
      "outputs": []
    },
    {
      "cell_type": "code",
      "source": [
        "features_qty_before"
      ],
      "metadata": {
        "colab": {
          "base_uri": "https://localhost:8080/"
        },
        "id": "yo5J8prYtwcU",
        "outputId": "d044f5c0-931e-46f6-dd0d-078258b42da5"
      },
      "execution_count": 67,
      "outputs": [
        {
          "output_type": "execute_result",
          "data": {
            "text/plain": [
              "[796, 362, 502, 660, 579, 719, 903, 561, 458]"
            ]
          },
          "metadata": {},
          "execution_count": 67
        }
      ]
    },
    {
      "cell_type": "code",
      "source": [
        "from random import sample\n",
        "\n",
        "for index, values in enumerate(features_qty):\n",
        "    if values > features_average:\n",
        "        print (values, feature_name[index])\n",
        "        files_to_remove = os.path.join(data_dir, feature_name[index])\n",
        "        files_to_remove_os = os.listdir(files_to_remove)\n",
        "        amount_to_remove = int(values-features_average)\n",
        "        print(amount_to_remove)\n",
        "        for image_to_remove in sample(files_to_remove_os, amount_to_remove):\n",
        "            print('it will be removed', image_to_remove)\n",
        "            os.remove(image_to_remove)"
      ],
      "metadata": {
        "colab": {
          "base_uri": "https://localhost:8080/"
        },
        "id": "n7z1J2_xjjTw",
        "outputId": "0862f0ee-6b38-4f8e-cc31-187c707aa082"
      },
      "execution_count": 65,
      "outputs": [
        {
          "output_type": "stream",
          "name": "stdout",
          "text": [
            "796 fogsmog\n",
            "181\n",
            "it will be removed 4199.jpg\n",
            "it will be removed 4323.jpg\n",
            "it will be removed 4292.jpg\n",
            "it will be removed 4648.jpg\n",
            "it will be removed 4844.jpg\n",
            "it will be removed 4214.jpg\n",
            "it will be removed 4092.jpg\n",
            "it will be removed 4678.jpg\n",
            "it will be removed 4180.jpg\n",
            "it will be removed 4379.jpg\n",
            "it will be removed 4917.jpg\n",
            "it will be removed 4122.jpg\n",
            "it will be removed 4479.jpg\n",
            "it will be removed 4527.jpg\n",
            "it will be removed 4677.jpg\n",
            "it will be removed 4852.jpg\n",
            "it will be removed 4535.jpg\n",
            "it will be removed 4765.jpg\n",
            "it will be removed 4119.jpg\n",
            "it will be removed 4599.jpg\n",
            "it will be removed 4147.jpg\n",
            "it will be removed 4749.jpg\n",
            "it will be removed 4541.jpg\n",
            "it will be removed 4709.jpg\n",
            "it will be removed 4179.jpg\n",
            "it will be removed 4430.jpg\n",
            "it will be removed 4522.jpg\n",
            "it will be removed 4870.jpg\n",
            "it will be removed 4491.jpg\n",
            "it will be removed 4447.jpg\n",
            "it will be removed 4313.jpg\n",
            "it will be removed 4715.jpg\n",
            "it will be removed 4751.jpg\n",
            "it will be removed 4807.jpg\n",
            "it will be removed 4641.jpg\n",
            "it will be removed 4437.jpg\n",
            "it will be removed 4207.jpg\n",
            "it will be removed 4881.jpg\n",
            "it will be removed 4158.jpg\n",
            "it will be removed 4684.jpg\n",
            "it will be removed 4794.jpg\n",
            "it will be removed 4805.jpg\n",
            "it will be removed 4428.jpg\n",
            "it will be removed 4082.jpg\n",
            "it will be removed 4177.jpg\n",
            "it will be removed 4309.jpg\n",
            "it will be removed 4305.jpg\n",
            "it will be removed 4588.jpg\n",
            "it will be removed 4236.jpg\n",
            "it will be removed 4370.jpg\n",
            "it will be removed 4533.jpg\n",
            "it will be removed 4864.jpg\n",
            "it will be removed 4126.jpg\n",
            "it will be removed 4903.jpg\n",
            "it will be removed 4596.jpg\n",
            "it will be removed 4250.jpg\n",
            "it will be removed 4628.jpg\n",
            "it will be removed 4473.jpg\n",
            "it will be removed 4529.jpg\n",
            "it will be removed 4215.jpg\n",
            "it will be removed 4433.jpg\n",
            "it will be removed 4285.jpg\n",
            "it will be removed 4832.jpg\n",
            "it will be removed 4564.jpg\n",
            "it will be removed 4779.jpg\n",
            "it will be removed 4284.jpg\n",
            "it will be removed 4255.jpg\n",
            "it will be removed 4148.jpg\n",
            "it will be removed 4612.jpg\n",
            "it will be removed 4829.jpg\n",
            "it will be removed 4129.jpg\n",
            "it will be removed 4318.jpg\n",
            "it will be removed 4495.jpg\n",
            "it will be removed 4134.jpg\n",
            "it will be removed 4182.jpg\n",
            "it will be removed 4675.jpg\n",
            "it will be removed 4424.jpg\n",
            "it will be removed 4667.jpg\n",
            "it will be removed 4600.jpg\n",
            "it will be removed 4302.jpg\n",
            "it will be removed 4868.jpg\n",
            "it will be removed 4851.jpg\n",
            "it will be removed 4650.jpg\n",
            "it will be removed 4691.jpg\n",
            "it will be removed 4324.jpg\n",
            "it will be removed 4365.jpg\n",
            "it will be removed 4244.jpg\n",
            "it will be removed 4889.jpg\n",
            "it will be removed 4163.jpg\n",
            "it will be removed 4172.jpg\n",
            "it will be removed 4201.jpg\n",
            "it will be removed 4682.jpg\n",
            "it will be removed 4636.jpg\n",
            "it will be removed 4711.jpg\n",
            "it will be removed 4296.jpg\n",
            "it will be removed 4216.jpg\n",
            "it will be removed 4831.jpg\n",
            "it will be removed 4115.jpg\n",
            "it will be removed 4127.jpg\n",
            "it will be removed 4647.jpg\n",
            "it will be removed 4795.jpg\n",
            "it will be removed 4164.jpg\n",
            "it will be removed 4280.jpg\n",
            "it will be removed 4791.jpg\n",
            "it will be removed 4340.jpg\n",
            "it will be removed 4288.jpg\n",
            "it will be removed 4850.jpg\n",
            "it will be removed 4873.jpg\n",
            "it will be removed 4750.jpg\n",
            "it will be removed 4320.jpg\n",
            "it will be removed 4690.jpg\n",
            "it will be removed 4630.jpg\n",
            "it will be removed 4800.jpg\n",
            "it will be removed 4259.jpg\n",
            "it will be removed 4249.jpg\n",
            "it will be removed 4419.jpg\n",
            "it will be removed 4830.jpg\n",
            "it will be removed 4554.jpg\n",
            "it will be removed 4748.jpg\n",
            "it will be removed 4368.jpg\n",
            "it will be removed 4859.jpg\n",
            "it will be removed 4652.jpg\n",
            "it will be removed 4567.jpg\n",
            "it will be removed 4161.jpg\n",
            "it will be removed 4472.jpg\n",
            "it will be removed 4640.jpg\n",
            "it will be removed 4528.jpg\n",
            "it will be removed 4736.jpg\n",
            "it will be removed 4654.jpg\n",
            "it will be removed 4546.jpg\n",
            "it will be removed 4426.jpg\n",
            "it will be removed 4811.jpg\n",
            "it will be removed 4741.jpg\n",
            "it will be removed 4817.jpg\n",
            "it will be removed 4757.jpg\n",
            "it will be removed 4282.jpg\n",
            "it will be removed 4842.jpg\n",
            "it will be removed 4536.jpg\n",
            "it will be removed 4347.jpg\n",
            "it will be removed 4540.jpg\n",
            "it will be removed 4758.jpg\n",
            "it will be removed 4484.jpg\n",
            "it will be removed 4735.jpg\n",
            "it will be removed 4271.jpg\n",
            "it will be removed 4512.jpg\n",
            "it will be removed 4450.jpg\n",
            "it will be removed 4090.jpg\n",
            "it will be removed 4139.jpg\n",
            "it will be removed 4591.jpg\n",
            "it will be removed 4858.jpg\n",
            "it will be removed 4087.jpg\n",
            "it will be removed 4123.jpg\n",
            "it will be removed 4307.jpg\n",
            "it will be removed 4439.jpg\n",
            "it will be removed 4176.jpg\n",
            "it will be removed 4096.jpg\n",
            "it will be removed 4519.jpg\n",
            "it will be removed 4550.jpg\n",
            "it will be removed 4088.jpg\n",
            "it will be removed 4754.jpg\n",
            "it will be removed 4210.jpg\n",
            "it will be removed 4673.jpg\n",
            "it will be removed 4233.jpg\n",
            "it will be removed 4217.jpg\n",
            "it will be removed 4480.jpg\n",
            "it will be removed 4157.jpg\n",
            "it will be removed 4290.jpg\n",
            "it will be removed 4747.jpg\n",
            "it will be removed 4105.jpg\n",
            "it will be removed 4100.jpg\n",
            "it will be removed 4404.jpg\n",
            "it will be removed 4429.jpg\n",
            "it will be removed 4107.jpg\n",
            "it will be removed 4152.jpg\n",
            "it will be removed 4733.jpg\n",
            "it will be removed 4094.jpg\n",
            "it will be removed 4615.jpg\n",
            "it will be removed 4219.jpg\n",
            "it will be removed 4467.jpg\n",
            "it will be removed 4671.jpg\n",
            "it will be removed 4425.jpg\n",
            "660 sandstorm\n",
            "45\n",
            "it will be removed 2988.jpg\n",
            "it will be removed 3102.jpg\n",
            "it will be removed 3203.jpg\n",
            "it will be removed 3516.jpg\n",
            "it will be removed 3346.jpg\n",
            "it will be removed 2977.jpg\n",
            "it will be removed 3566.jpg\n",
            "it will be removed 3363.jpg\n",
            "it will be removed 3352.jpg\n",
            "it will be removed 3509.jpg\n",
            "it will be removed 3515.jpg\n",
            "it will be removed 3198.jpg\n",
            "it will be removed 3559.jpg\n",
            "it will be removed 3383.jpg\n",
            "it will be removed 3137.jpg\n",
            "it will be removed 3109.jpg\n",
            "it will be removed 3455.jpg\n",
            "it will be removed 3023.jpg\n",
            "it will be removed 3371.jpg\n",
            "it will be removed 3430.jpg\n",
            "it will be removed 3360.jpg\n",
            "it will be removed 3072.jpg\n",
            "it will be removed 3000.jpg\n",
            "it will be removed 3223.jpg\n",
            "it will be removed 2946.jpg\n",
            "it will be removed 3400.jpg\n",
            "it will be removed 3188.jpg\n",
            "it will be removed 3359.jpg\n",
            "it will be removed 3239.jpg\n",
            "it will be removed 3031.jpg\n",
            "it will be removed 3514.jpg\n",
            "it will be removed 3170.jpg\n",
            "it will be removed 3150.jpg\n",
            "it will be removed 3276.jpg\n",
            "it will be removed 3256.jpg\n",
            "it will be removed 3032.jpg\n",
            "it will be removed 3288.jpg\n",
            "it will be removed 3138.jpg\n",
            "it will be removed 3369.jpg\n",
            "it will be removed 2926.jpg\n",
            "it will be removed 3033.jpg\n",
            "it will be removed 3077.jpg\n",
            "it will be removed 3324.jpg\n",
            "it will be removed 3492.jpg\n",
            "it will be removed 3104.jpg\n",
            "719 cloudy\n",
            "104\n",
            "it will be removed 3563.jpg\n",
            "it will be removed 1203.jpg\n",
            "it will be removed 1401.jpg\n",
            "it will be removed 1297.jpg\n",
            "it will be removed 1616.jpg\n",
            "it will be removed 1520.jpg\n",
            "it will be removed 1228.jpg\n",
            "it will be removed 1204.jpg\n",
            "it will be removed 3520.jpg\n",
            "it will be removed 1539.jpg\n",
            "it will be removed 1546.jpg\n",
            "it will be removed 1551.jpg\n",
            "it will be removed 1309.jpg\n",
            "it will be removed 3582.jpg\n",
            "it will be removed 4134.jpg\n",
            "it will be removed 1349.jpg\n",
            "it will be removed 1526.jpg\n",
            "it will be removed 2685.jpg\n",
            "it will be removed 1240.jpg\n",
            "it will be removed 2686.jpg\n",
            "it will be removed 1414.jpg\n",
            "it will be removed 1533.jpg\n",
            "it will be removed 1318.jpg\n",
            "it will be removed 4146.jpg\n",
            "it will be removed 1369.jpg\n",
            "it will be removed 1324.jpg\n",
            "it will be removed 1588.jpg\n",
            "it will be removed 2684.jpg\n",
            "it will be removed 4165.jpg\n",
            "it will be removed 3553.jpg\n",
            "it will be removed 1373.jpg\n",
            "it will be removed 3497.jpg\n",
            "it will be removed 3532.jpg\n",
            "it will be removed 1167.jpg\n",
            "it will be removed 1371.jpg\n",
            "it will be removed 3539.jpg\n",
            "it will be removed 2789.jpg\n",
            "it will be removed 4113.jpg\n",
            "it will be removed 3585.jpg\n",
            "it will be removed 1507.jpg\n",
            "it will be removed 1509.jpg\n",
            "it will be removed 1580.jpg\n",
            "it will be removed 1534.jpg\n",
            "it will be removed 3484.jpg\n",
            "it will be removed 1503.jpg\n",
            "it will be removed 1293.jpg\n",
            "it will be removed 1470.jpg\n",
            "it will be removed 4167.jpg\n",
            "it will be removed 1510.jpg\n",
            "it will be removed 1577.jpg\n",
            "it will be removed 1229.jpg\n",
            "it will be removed 1399.jpg\n",
            "it will be removed 2787.jpg\n",
            "it will be removed 2785.jpg\n",
            "it will be removed 2696.jpg\n",
            "it will be removed 1381.jpg\n",
            "it will be removed 1485.jpg\n",
            "it will be removed 3482.jpg\n",
            "it will be removed 2716.jpg\n",
            "it will be removed 1558.jpg\n",
            "it will be removed 2687.jpg\n",
            "it will be removed 4145.jpg\n",
            "it will be removed 1363.jpg\n",
            "it will be removed 4168.jpg\n",
            "it will be removed 1301.jpg\n",
            "it will be removed 1492.jpg\n",
            "it will be removed 3578.jpg\n",
            "it will be removed 1359.jpg\n",
            "it will be removed 1494.jpg\n",
            "it will be removed 3594.jpg\n",
            "it will be removed 1312.jpg\n",
            "it will be removed 3492.jpg\n",
            "it will be removed 1254.jpg\n",
            "it will be removed 1512.jpg\n",
            "it will be removed 1332.jpg\n",
            "it will be removed 1282.jpg\n",
            "it will be removed 3472.jpg\n",
            "it will be removed 1519.jpg\n",
            "it will be removed 1418.jpg\n",
            "it will be removed 1570.jpg\n",
            "it will be removed 1488.jpg\n",
            "it will be removed 1593.jpg\n",
            "it will be removed 3550.jpg\n",
            "it will be removed 3465.jpg\n",
            "it will be removed 1572.jpg\n",
            "it will be removed 1238.jpg\n",
            "it will be removed 4208.jpg\n",
            "it will be removed 1610.jpg\n",
            "it will be removed 1222.jpg\n",
            "it will be removed 1574.jpg\n",
            "it will be removed 1329.jpg\n",
            "it will be removed 1436.jpg\n",
            "it will be removed 1214.jpg\n",
            "it will be removed 1376.jpg\n",
            "it will be removed 4160.jpg\n",
            "it will be removed 1408.jpg\n",
            "it will be removed 1608.jpg\n",
            "it will be removed 3570.jpg\n",
            "it will be removed 1561.jpg\n",
            "it will be removed 1559.jpg\n",
            "it will be removed 1511.jpg\n",
            "it will be removed 4156.jpg\n",
            "it will be removed 1299.jpg\n",
            "it will be removed 1341.jpg\n",
            "903 sunny\n",
            "288\n",
            "it will be removed 4282.jpg\n",
            "it will be removed 2467.jpg\n",
            "it will be removed 1360.jpg\n",
            "it will be removed 2439.jpg\n",
            "it will be removed 2477.jpg\n",
            "it will be removed 1323.jpg\n",
            "it will be removed 1272.jpg\n",
            "it will be removed 2478.jpg\n",
            "it will be removed 1301.jpg\n",
            "it will be removed 1371.jpg\n",
            "it will be removed 1274.jpg\n",
            "it will be removed 1404.jpg\n",
            "it will be removed 1425.jpg\n",
            "it will be removed 2539.jpg\n",
            "it will be removed 2407.jpg\n",
            "it will be removed 1289.jpg\n",
            "it will be removed 1377.jpg\n",
            "it will be removed 4285.jpg\n",
            "it will be removed 1276.jpg\n",
            "it will be removed 2458.jpg\n",
            "it will be removed 1246.jpg\n",
            "it will be removed 1564.jpg\n",
            "it will be removed 1545.jpg\n",
            "it will be removed 1515.jpg\n",
            "it will be removed 1328.jpg\n",
            "it will be removed 4292.jpg\n",
            "it will be removed 1595.jpg\n",
            "it will be removed 1459.jpg\n",
            "it will be removed 1603.jpg\n",
            "it will be removed 2461.jpg\n",
            "it will be removed 2330.jpg\n",
            "it will be removed 4219.jpg\n",
            "it will be removed 1253.jpg\n",
            "it will be removed 1444.jpg\n",
            "it will be removed 2347.jpg\n",
            "it will be removed 1533.jpg\n",
            "it will be removed 2325.jpg\n",
            "it will be removed 4251.jpg\n",
            "it will be removed 4194.jpg\n",
            "it will be removed 1221.jpg\n",
            "it will be removed 1431.jpg\n",
            "it will be removed 1508.jpg\n",
            "it will be removed 2281.jpg\n",
            "it will be removed 1372.jpg\n",
            "it will be removed 4132.jpg\n",
            "it will be removed 2544.jpg\n",
            "it will be removed 2314.jpg\n",
            "it will be removed 2373.jpg\n",
            "it will be removed 2466.jpg\n",
            "it will be removed 4350.jpg\n",
            "it will be removed 1395.jpg\n",
            "it will be removed 1158.jpg\n",
            "it will be removed 2358.jpg\n",
            "it will be removed 2352.jpg\n",
            "it will be removed 2552.jpg\n",
            "it will be removed 1451.jpg\n",
            "it will be removed 1271.jpg\n",
            "it will be removed 2451.jpg\n",
            "it will be removed 1531.jpg\n",
            "it will be removed 2315.jpg\n",
            "it will be removed 1472.jpg\n",
            "it will be removed 1442.jpg\n",
            "it will be removed 2304.jpg\n",
            "it will be removed 1416.jpg\n",
            "it will be removed 4296.jpg\n",
            "it will be removed 4237.jpg\n",
            "it will be removed 1544.jpg\n",
            "it will be removed 2291.jpg\n",
            "it will be removed 4303.jpg\n",
            "it will be removed 1448.jpg\n",
            "it will be removed 4284.jpg\n",
            "it will be removed 2337.jpg\n",
            "it will be removed 1336.jpg\n",
            "it will be removed 1471.jpg\n",
            "it will be removed 1447.jpg\n",
            "it will be removed 1236.jpg\n",
            "it will be removed 1163.jpg\n",
            "it will be removed 1254.jpg\n",
            "it will be removed 1370.jpg\n",
            "it will be removed 2319.jpg\n",
            "it will be removed 2502.jpg\n",
            "it will be removed 1262.jpg\n",
            "it will be removed 1488.jpg\n",
            "it will be removed 1424.jpg\n",
            "it will be removed 1556.jpg\n",
            "it will be removed 1452.jpg\n",
            "it will be removed 1437.jpg\n",
            "it will be removed 2277.jpg\n",
            "it will be removed 1277.jpg\n",
            "it will be removed 4357.jpg\n",
            "it will be removed 1410.jpg\n",
            "it will be removed 4339.jpg\n",
            "it will be removed 2504.jpg\n",
            "it will be removed 1334.jpg\n",
            "it will be removed 1445.jpg\n",
            "it will be removed 1458.jpg\n",
            "it will be removed 2333.jpg\n",
            "it will be removed 2385.jpg\n",
            "it will be removed 1496.jpg\n",
            "it will be removed 2498.jpg\n",
            "it will be removed 2464.jpg\n",
            "it will be removed 2371.jpg\n",
            "it will be removed 1554.jpg\n",
            "it will be removed 1511.jpg\n",
            "it will be removed 4152.jpg\n",
            "it will be removed 1628.jpg\n",
            "it will be removed 4302.jpg\n",
            "it will be removed 1525.jpg\n",
            "it will be removed 1154.jpg\n",
            "it will be removed 1367.jpg\n",
            "it will be removed 1631.jpg\n",
            "it will be removed 1170.jpg\n",
            "it will be removed 1434.jpg\n",
            "it will be removed 4349.jpg\n",
            "it will be removed 1345.jpg\n",
            "it will be removed 2310.jpg\n",
            "it will be removed 2388.jpg\n",
            "it will be removed 2424.jpg\n",
            "it will be removed 1586.jpg\n",
            "it will be removed 1414.jpg\n",
            "it will be removed 1219.jpg\n",
            "it will be removed 1611.jpg\n",
            "it will be removed 1270.jpg\n",
            "it will be removed 1378.jpg\n",
            "it will be removed 1164.jpg\n",
            "it will be removed 4257.jpg\n",
            "it will be removed 2501.jpg\n",
            "it will be removed 1235.jpg\n",
            "it will be removed 1577.jpg\n",
            "it will be removed 1538.jpg\n",
            "it will be removed 4234.jpg\n",
            "it will be removed 1558.jpg\n",
            "it will be removed 1492.jpg\n",
            "it will be removed 1332.jpg\n",
            "it will be removed 2292.jpg\n",
            "it will be removed 4348.jpg\n",
            "it will be removed 4220.jpg\n",
            "it will be removed 1477.jpg\n",
            "it will be removed 2503.jpg\n",
            "it will be removed 2546.jpg\n",
            "it will be removed 1576.jpg\n",
            "it will be removed 1157.jpg\n",
            "it will be removed 1382.jpg\n",
            "it will be removed 4281.jpg\n",
            "it will be removed 1535.jpg\n",
            "it will be removed 2377.jpg\n",
            "it will be removed 2425.jpg\n",
            "it will be removed 1278.jpg\n",
            "it will be removed 4291.jpg\n",
            "it will be removed 1347.jpg\n",
            "it will be removed 2462.jpg\n",
            "it will be removed 2543.jpg\n",
            "it will be removed 2326.jpg\n",
            "it will be removed 1171.jpg\n",
            "it will be removed 1512.jpg\n",
            "it will be removed 1303.jpg\n",
            "it will be removed 1310.jpg\n",
            "it will be removed 2417.jpg\n",
            "it will be removed 1240.jpg\n",
            "it will be removed 1167.jpg\n",
            "it will be removed 1392.jpg\n",
            "it will be removed 1269.jpg\n",
            "it will be removed 1436.jpg\n",
            "it will be removed 1172.jpg\n",
            "it will be removed 1166.jpg\n",
            "it will be removed 4201.jpg\n",
            "it will be removed 2411.jpg\n",
            "it will be removed 1153.jpg\n",
            "it will be removed 2437.jpg\n",
            "it will be removed 2474.jpg\n",
            "it will be removed 1237.jpg\n",
            "it will be removed 2396.jpg\n",
            "it will be removed 2391.jpg\n",
            "it will be removed 1255.jpg\n",
            "it will be removed 2486.jpg\n",
            "it will be removed 1570.jpg\n",
            "it will be removed 4135.jpg\n",
            "it will be removed 1549.jpg\n",
            "it will be removed 2459.jpg\n",
            "it will be removed 1623.jpg\n",
            "it will be removed 1312.jpg\n",
            "it will be removed 2400.jpg\n",
            "it will be removed 4359.jpg\n",
            "it will be removed 1252.jpg\n",
            "it will be removed 4287.jpg\n",
            "it will be removed 1338.jpg\n",
            "it will be removed 1215.jpg\n",
            "it will be removed 1288.jpg\n",
            "it will be removed 1295.jpg\n",
            "it will be removed 1341.jpg\n",
            "it will be removed 4288.jpg\n",
            "it will be removed 1453.jpg\n",
            "it will be removed 2369.jpg\n",
            "it will be removed 2554.jpg\n",
            "it will be removed 2475.jpg\n",
            "it will be removed 2468.jpg\n",
            "it will be removed 4210.jpg\n",
            "it will be removed 1555.jpg\n",
            "it will be removed 4250.jpg\n",
            "it will be removed 2323.jpg\n",
            "it will be removed 2306.jpg\n",
            "it will be removed 1155.jpg\n",
            "it will be removed 2438.jpg\n",
            "it will be removed 1305.jpg\n",
            "it will be removed 1356.jpg\n",
            "it will be removed 4267.jpg\n",
            "it will be removed 2540.jpg\n",
            "it will be removed 2452.jpg\n",
            "it will be removed 1389.jpg\n",
            "it will be removed 2226.jpg\n",
            "it will be removed 1375.jpg\n",
            "it will be removed 2489.jpg\n",
            "it will be removed 4253.jpg\n",
            "it will be removed 1349.jpg\n",
            "it will be removed 4304.jpg\n",
            "it will be removed 4345.jpg\n",
            "it will be removed 4189.jpg\n",
            "it will be removed 1223.jpg\n",
            "it will be removed 2367.jpg\n",
            "it will be removed 1359.jpg\n",
            "it will be removed 4143.jpg\n",
            "it will be removed 2365.jpg\n",
            "it will be removed 1286.jpg\n",
            "it will be removed 2379.jpg\n",
            "it will be removed 2559.jpg\n",
            "it will be removed 4150.jpg\n",
            "it will be removed 4190.jpg\n",
            "it will be removed 1469.jpg\n",
            "it will be removed 2289.jpg\n",
            "it will be removed 1329.jpg\n",
            "it will be removed 1220.jpg\n",
            "it will be removed 4286.jpg\n",
            "it will be removed 2432.jpg\n",
            "it will be removed 1384.jpg\n",
            "it will be removed 1476.jpg\n",
            "it will be removed 1621.jpg\n",
            "it will be removed 1230.jpg\n",
            "it will be removed 2301.jpg\n",
            "it will be removed 1547.jpg\n",
            "it will be removed 2433.jpg\n",
            "it will be removed 4218.jpg\n",
            "it will be removed 1319.jpg\n",
            "it will be removed 1309.jpg\n",
            "it will be removed 2420.jpg\n",
            "it will be removed 4276.jpg\n",
            "it will be removed 1506.jpg\n",
            "it will be removed 1587.jpg\n",
            "it will be removed 2331.jpg\n",
            "it will be removed 1584.jpg\n",
            "it will be removed 1247.jpg\n",
            "it will be removed 2542.jpg\n",
            "it will be removed 1495.jpg\n",
            "it will be removed 1413.jpg\n",
            "it will be removed 2346.jpg\n",
            "it will be removed 1340.jpg\n",
            "it will be removed 4259.jpg\n",
            "it will be removed 1562.jpg\n",
            "it will be removed 4206.jpg\n",
            "it will be removed 2312.jpg\n",
            "it will be removed 4192.jpg\n",
            "it will be removed 1380.jpg\n",
            "it will be removed 1256.jpg\n",
            "it will be removed 1317.jpg\n",
            "it will be removed 2403.jpg\n",
            "it will be removed 1257.jpg\n",
            "it will be removed 1307.jpg\n",
            "it will be removed 2390.jpg\n",
            "it will be removed 1353.jpg\n",
            "it will be removed 4244.jpg\n",
            "it will be removed 2280.jpg\n",
            "it will be removed 1580.jpg\n",
            "it will be removed 1529.jpg\n",
            "it will be removed 2549.jpg\n",
            "it will be removed 2344.jpg\n",
            "it will be removed 2449.jpg\n",
            "it will be removed 2375.jpg\n",
            "it will be removed 4363.jpg\n",
            "it will be removed 4130.jpg\n",
            "it will be removed 2350.jpg\n",
            "it will be removed 1168.jpg\n",
            "it will be removed 4225.jpg\n",
            "it will be removed 2560.jpg\n",
            "it will be removed 1618.jpg\n",
            "it will be removed 1300.jpg\n",
            "it will be removed 2465.jpg\n",
            "it will be removed 4353.jpg\n",
            "it will be removed 1217.jpg\n",
            "it will be removed 4280.jpg\n"
          ]
        }
      ]
    },
    {
      "cell_type": "code",
      "source": [
        "files_to_remove"
      ],
      "metadata": {
        "colab": {
          "base_uri": "https://localhost:8080/",
          "height": 35
        },
        "id": "JF7YgBfmsHZf",
        "outputId": "97285c0e-485d-478b-942e-3e6e79ba5aa2"
      },
      "execution_count": 62,
      "outputs": [
        {
          "output_type": "execute_result",
          "data": {
            "text/plain": [
              "'/content/drive/MyDrive/#1Weather_ML_Project/dataset/fogsmog'"
            ],
            "application/vnd.google.colaboratory.intrinsic+json": {
              "type": "string"
            }
          },
          "metadata": {},
          "execution_count": 62
        }
      ]
    },
    {
      "cell_type": "code",
      "source": [
        "from random import sample\n",
        "\n",
        "files = os.listdir('path/to/your/folder')\n",
        "for file in sample(files,11):\n",
        "    os.remove(file)"
      ],
      "metadata": {
        "id": "6G_OqSkUnW39"
      },
      "execution_count": null,
      "outputs": []
    },
    {
      "cell_type": "code",
      "source": [
        "from random import sample\n",
        "\n",
        "files = os.listdir('path/to/your/folder')\n",
        "for file in sample(files,11):\n",
        "    os.remove(file)"
      ],
      "metadata": {
        "id": "xjDNZm5I4Dqs"
      },
      "execution_count": null,
      "outputs": []
    },
    {
      "cell_type": "code",
      "source": [
        "# for feature in stuff:\n",
        "    #if stuff[:] > 695:\n",
        "        #files = os.listdir('path/to/your/folder')\n",
        "        #for file in sample(files,11):\n",
        "        #os.remove(file)\n",
        "    #else:\n",
        "        #print('feature is bellow')\n"
      ],
      "metadata": {
        "id": "dIPb_FL934Ti"
      },
      "execution_count": null,
      "outputs": []
    },
    {
      "cell_type": "markdown",
      "source": [],
      "metadata": {
        "id": "9gIfZ90K1ELE"
      }
    },
    {
      "cell_type": "code",
      "source": [
        "average = (796+362+502+660+579+719+903+561+458)/9"
      ],
      "metadata": {
        "colab": {
          "base_uri": "https://localhost:8080/"
        },
        "id": "9yVuKpPlfkeW",
        "outputId": "d14b751a-8a5b-4950-f1e4-cd87d343ca3c"
      },
      "execution_count": null,
      "outputs": [
        {
          "output_type": "execute_result",
          "data": {
            "text/plain": [
              "615.5555555555555"
            ]
          },
          "metadata": {},
          "execution_count": 56
        }
      ]
    },
    {
      "cell_type": "code",
      "source": [],
      "metadata": {
        "id": "pQAAtc4z2bz-"
      },
      "execution_count": null,
      "outputs": []
    },
    {
      "cell_type": "code",
      "source": [
        "fogsmog_path = os.path.join(data_dir, 'fogsmog')\n",
        "lightning_path = os.path.join(data_dir, 'lightning')\n",
        "rain_path = os.path.join(data_dir, 'rain')\n",
        "sandstorm_path = os.path.join(data_dir, 'sandstorm')\n",
        "snow_path = os.path.join(data_dir, 'snow')\n",
        "cloudy_path = os.path.join(data_dir, 'cloudy')\n",
        "sunny_path = os.path.join(data_dir, 'sunny')\n",
        "hail_path = os.path.join(data_dir, 'hail')\n",
        "frost_path = os.path.join(data_dir, 'frost')\n"
      ],
      "metadata": {
        "id": "vtEDT_GU0rgt"
      },
      "execution_count": null,
      "outputs": []
    }
  ]
}