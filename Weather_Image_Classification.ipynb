{
  "nbformat": 4,
  "nbformat_minor": 0,
  "metadata": {
    "colab": {
      "provenance": [],
      "collapsed_sections": [
        "wy1l6cL3yPE3"
      ],
      "mount_file_id": "1QfHdmi5jgWRE14HcvzKg4idKKy8lhns7",
      "authorship_tag": "ABX9TyNEOP2tL+EhOvfQSt4iNbum",
      "include_colab_link": true
    },
    "kernelspec": {
      "name": "python3",
      "display_name": "Python 3"
    },
    "language_info": {
      "name": "python"
    },
    "accelerator": "GPU",
    "gpuClass": "standard"
  },
  "cells": [
    {
      "cell_type": "markdown",
      "metadata": {
        "id": "view-in-github",
        "colab_type": "text"
      },
      "source": [
        "<a href=\"https://colab.research.google.com/github/Cepeda-R/Machine-Learning_FullProjects/blob/main/Weather_Image_Classification.ipynb\" target=\"_parent\"><img src=\"https://colab.research.google.com/assets/colab-badge.svg\" alt=\"Open In Colab\"/></a>"
      ]
    },
    {
      "cell_type": "markdown",
      "source": [
        "## PREPARE PROJECT | DEPENDENCIES & LOAD DATA"
      ],
      "metadata": {
        "id": "5bSKGiMHFtU2"
      }
    },
    {
      "cell_type": "code",
      "execution_count": 1,
      "metadata": {
        "id": "7ZmdwAhWDEWx",
        "colab": {
          "base_uri": "https://localhost:8080/"
        },
        "outputId": "dedfd908-d6b7-4151-d1a3-7624603c04c2"
      },
      "outputs": [
        {
          "output_type": "stream",
          "name": "stdout",
          "text": [
            "Looking in indexes: https://pypi.org/simple, https://us-python.pkg.dev/colab-wheels/public/simple/\n",
            "Collecting tensorflow==2.7\n",
            "  Downloading tensorflow-2.7.0-cp38-cp38-manylinux2010_x86_64.whl (489.6 MB)\n",
            "\u001b[K     |████████████████████████████████| 489.6 MB 26 kB/s \n",
            "\u001b[?25hRequirement already satisfied: gast<0.5.0,>=0.2.1 in /usr/local/lib/python3.8/dist-packages (from tensorflow==2.7) (0.4.0)\n",
            "Requirement already satisfied: absl-py>=0.4.0 in /usr/local/lib/python3.8/dist-packages (from tensorflow==2.7) (1.3.0)\n",
            "Requirement already satisfied: google-pasta>=0.1.1 in /usr/local/lib/python3.8/dist-packages (from tensorflow==2.7) (0.2.0)\n",
            "Requirement already satisfied: opt-einsum>=2.3.2 in /usr/local/lib/python3.8/dist-packages (from tensorflow==2.7) (3.3.0)\n",
            "Requirement already satisfied: flatbuffers<3.0,>=1.12 in /usr/local/lib/python3.8/dist-packages (from tensorflow==2.7) (1.12)\n",
            "Requirement already satisfied: tensorflow-io-gcs-filesystem>=0.21.0 in /usr/local/lib/python3.8/dist-packages (from tensorflow==2.7) (0.28.0)\n",
            "Requirement already satisfied: wrapt>=1.11.0 in /usr/local/lib/python3.8/dist-packages (from tensorflow==2.7) (1.14.1)\n",
            "Requirement already satisfied: six>=1.12.0 in /usr/local/lib/python3.8/dist-packages (from tensorflow==2.7) (1.15.0)\n",
            "Requirement already satisfied: keras-preprocessing>=1.1.1 in /usr/local/lib/python3.8/dist-packages (from tensorflow==2.7) (1.1.2)\n",
            "Requirement already satisfied: astunparse>=1.6.0 in /usr/local/lib/python3.8/dist-packages (from tensorflow==2.7) (1.6.3)\n",
            "Requirement already satisfied: protobuf>=3.9.2 in /usr/local/lib/python3.8/dist-packages (from tensorflow==2.7) (3.19.6)\n",
            "Requirement already satisfied: h5py>=2.9.0 in /usr/local/lib/python3.8/dist-packages (from tensorflow==2.7) (3.1.0)\n",
            "Requirement already satisfied: grpcio<2.0,>=1.24.3 in /usr/local/lib/python3.8/dist-packages (from tensorflow==2.7) (1.51.1)\n",
            "Requirement already satisfied: tensorboard~=2.6 in /usr/local/lib/python3.8/dist-packages (from tensorflow==2.7) (2.9.1)\n",
            "Requirement already satisfied: libclang>=9.0.1 in /usr/local/lib/python3.8/dist-packages (from tensorflow==2.7) (14.0.6)\n",
            "Collecting tensorflow-estimator<2.8,~=2.7.0rc0\n",
            "  Downloading tensorflow_estimator-2.7.0-py2.py3-none-any.whl (463 kB)\n",
            "\u001b[K     |████████████████████████████████| 463 kB 33.3 MB/s \n",
            "\u001b[?25hRequirement already satisfied: typing-extensions>=3.6.6 in /usr/local/lib/python3.8/dist-packages (from tensorflow==2.7) (4.4.0)\n",
            "Requirement already satisfied: termcolor>=1.1.0 in /usr/local/lib/python3.8/dist-packages (from tensorflow==2.7) (2.1.1)\n",
            "Requirement already satisfied: wheel<1.0,>=0.32.0 in /usr/local/lib/python3.8/dist-packages (from tensorflow==2.7) (0.38.4)\n",
            "Collecting keras<2.8,>=2.7.0rc0\n",
            "  Downloading keras-2.7.0-py2.py3-none-any.whl (1.3 MB)\n",
            "\u001b[K     |████████████████████████████████| 1.3 MB 60.1 MB/s \n",
            "\u001b[?25hRequirement already satisfied: numpy>=1.14.5 in /usr/local/lib/python3.8/dist-packages (from tensorflow==2.7) (1.21.6)\n",
            "Requirement already satisfied: tensorboard-data-server<0.7.0,>=0.6.0 in /usr/local/lib/python3.8/dist-packages (from tensorboard~=2.6->tensorflow==2.7) (0.6.1)\n",
            "Requirement already satisfied: google-auth<3,>=1.6.3 in /usr/local/lib/python3.8/dist-packages (from tensorboard~=2.6->tensorflow==2.7) (2.15.0)\n",
            "Requirement already satisfied: werkzeug>=1.0.1 in /usr/local/lib/python3.8/dist-packages (from tensorboard~=2.6->tensorflow==2.7) (1.0.1)\n",
            "Requirement already satisfied: google-auth-oauthlib<0.5,>=0.4.1 in /usr/local/lib/python3.8/dist-packages (from tensorboard~=2.6->tensorflow==2.7) (0.4.6)\n",
            "Requirement already satisfied: requests<3,>=2.21.0 in /usr/local/lib/python3.8/dist-packages (from tensorboard~=2.6->tensorflow==2.7) (2.23.0)\n",
            "Requirement already satisfied: markdown>=2.6.8 in /usr/local/lib/python3.8/dist-packages (from tensorboard~=2.6->tensorflow==2.7) (3.4.1)\n",
            "Requirement already satisfied: tensorboard-plugin-wit>=1.6.0 in /usr/local/lib/python3.8/dist-packages (from tensorboard~=2.6->tensorflow==2.7) (1.8.1)\n",
            "Requirement already satisfied: setuptools>=41.0.0 in /usr/local/lib/python3.8/dist-packages (from tensorboard~=2.6->tensorflow==2.7) (57.4.0)\n",
            "Requirement already satisfied: pyasn1-modules>=0.2.1 in /usr/local/lib/python3.8/dist-packages (from google-auth<3,>=1.6.3->tensorboard~=2.6->tensorflow==2.7) (0.2.8)\n",
            "Requirement already satisfied: cachetools<6.0,>=2.0.0 in /usr/local/lib/python3.8/dist-packages (from google-auth<3,>=1.6.3->tensorboard~=2.6->tensorflow==2.7) (5.2.0)\n",
            "Requirement already satisfied: rsa<5,>=3.1.4 in /usr/local/lib/python3.8/dist-packages (from google-auth<3,>=1.6.3->tensorboard~=2.6->tensorflow==2.7) (4.9)\n",
            "Requirement already satisfied: requests-oauthlib>=0.7.0 in /usr/local/lib/python3.8/dist-packages (from google-auth-oauthlib<0.5,>=0.4.1->tensorboard~=2.6->tensorflow==2.7) (1.3.1)\n",
            "Requirement already satisfied: importlib-metadata>=4.4 in /usr/local/lib/python3.8/dist-packages (from markdown>=2.6.8->tensorboard~=2.6->tensorflow==2.7) (5.1.0)\n",
            "Requirement already satisfied: zipp>=0.5 in /usr/local/lib/python3.8/dist-packages (from importlib-metadata>=4.4->markdown>=2.6.8->tensorboard~=2.6->tensorflow==2.7) (3.11.0)\n",
            "Requirement already satisfied: pyasn1<0.5.0,>=0.4.6 in /usr/local/lib/python3.8/dist-packages (from pyasn1-modules>=0.2.1->google-auth<3,>=1.6.3->tensorboard~=2.6->tensorflow==2.7) (0.4.8)\n",
            "Requirement already satisfied: idna<3,>=2.5 in /usr/local/lib/python3.8/dist-packages (from requests<3,>=2.21.0->tensorboard~=2.6->tensorflow==2.7) (2.10)\n",
            "Requirement already satisfied: urllib3!=1.25.0,!=1.25.1,<1.26,>=1.21.1 in /usr/local/lib/python3.8/dist-packages (from requests<3,>=2.21.0->tensorboard~=2.6->tensorflow==2.7) (1.24.3)\n",
            "Requirement already satisfied: certifi>=2017.4.17 in /usr/local/lib/python3.8/dist-packages (from requests<3,>=2.21.0->tensorboard~=2.6->tensorflow==2.7) (2022.12.7)\n",
            "Requirement already satisfied: chardet<4,>=3.0.2 in /usr/local/lib/python3.8/dist-packages (from requests<3,>=2.21.0->tensorboard~=2.6->tensorflow==2.7) (3.0.4)\n",
            "Requirement already satisfied: oauthlib>=3.0.0 in /usr/local/lib/python3.8/dist-packages (from requests-oauthlib>=0.7.0->google-auth-oauthlib<0.5,>=0.4.1->tensorboard~=2.6->tensorflow==2.7) (3.2.2)\n",
            "Installing collected packages: tensorflow-estimator, keras, tensorflow\n",
            "  Attempting uninstall: tensorflow-estimator\n",
            "    Found existing installation: tensorflow-estimator 2.9.0\n",
            "    Uninstalling tensorflow-estimator-2.9.0:\n",
            "      Successfully uninstalled tensorflow-estimator-2.9.0\n",
            "  Attempting uninstall: keras\n",
            "    Found existing installation: keras 2.9.0\n",
            "    Uninstalling keras-2.9.0:\n",
            "      Successfully uninstalled keras-2.9.0\n",
            "  Attempting uninstall: tensorflow\n",
            "    Found existing installation: tensorflow 2.9.2\n",
            "    Uninstalling tensorflow-2.9.2:\n",
            "      Successfully uninstalled tensorflow-2.9.2\n",
            "Successfully installed keras-2.7.0 tensorflow-2.7.0 tensorflow-estimator-2.7.0\n",
            "Looking in indexes: https://pypi.org/simple, https://us-python.pkg.dev/colab-wheels/public/simple/\n",
            "Collecting opencv-python==4.1.2.30\n",
            "  Downloading opencv_python-4.1.2.30-cp38-cp38-manylinux1_x86_64.whl (28.3 MB)\n",
            "\u001b[K     |████████████████████████████████| 28.3 MB 1.3 MB/s \n",
            "\u001b[?25hRequirement already satisfied: numpy>=1.17.3 in /usr/local/lib/python3.8/dist-packages (from opencv-python==4.1.2.30) (1.21.6)\n",
            "Installing collected packages: opencv-python\n",
            "  Attempting uninstall: opencv-python\n",
            "    Found existing installation: opencv-python 4.6.0.66\n",
            "    Uninstalling opencv-python-4.6.0.66:\n",
            "      Successfully uninstalled opencv-python-4.6.0.66\n",
            "Successfully installed opencv-python-4.1.2.30\n"
          ]
        }
      ],
      "source": [
        "#!pip install tensorflow tensorflow-gpu opencv-python\n",
        "#!pip install tf-nightly\n",
        "!pip install tensorflow==2.7\n",
        "!pip install opencv-python==4.1.2.30\n",
        "#2.7 work with CNN Training Model"
      ]
    },
    {
      "cell_type": "code",
      "source": [
        "#big data treatment & Keras API\n",
        "import tensorflow as tf\n",
        "\n",
        "#data treatment (batches)\n",
        "import pandas as pd\n",
        "import numpy as np\n",
        "import cv2 #image translation to array\n",
        "import imghdr #image extension\n",
        "\n",
        "#see images\n",
        "import matplotlib.pyplot as plt\n",
        "\n",
        "#directories\n",
        "import os\n",
        "\n",
        "#misc\n",
        "import warnings\n",
        "warnings.filterwarnings(\"ignore\")\n",
        "%matplotlib inline\n",
        "%config IPCompleter.greedy=True"
      ],
      "metadata": {
        "id": "rGzoq2zLD0k3"
      },
      "execution_count": 2,
      "outputs": []
    },
    {
      "cell_type": "code",
      "source": [
        "data_dir = '/content/drive/MyDrive/#1Weather_ML_Project/dataset'\n",
        "#confirm features\n",
        "os.listdir(data_dir)\n",
        "#confirm sub_features\n",
        "#os.listdir(os.path.join(data_dir, 'fogsmog'))"
      ],
      "metadata": {
        "colab": {
          "base_uri": "https://localhost:8080/"
        },
        "id": "0vPfzkw6F_yv",
        "outputId": "b53b1a96-dc25-4c77-d6c7-74f39294bdfd"
      },
      "execution_count": 3,
      "outputs": [
        {
          "output_type": "execute_result",
          "data": {
            "text/plain": [
              "['fogsmog', 'rain', 'snow', 'cloudy', 'sunny', 'frost']"
            ]
          },
          "metadata": {},
          "execution_count": 3
        }
      ]
    },
    {
      "cell_type": "markdown",
      "source": [
        "## TREAT DATA. Data treated do not use this more"
      ],
      "metadata": {
        "id": "wy1l6cL3yPE3"
      }
    },
    {
      "cell_type": "code",
      "source": [
        "#quantity of files inside feature\n",
        "totalFiles = 0\n",
        "\n",
        "for base, dirs, files in os.walk(data_dir):\n",
        "    for Files in files:\n",
        "        totalFiles += 1\n",
        "    print('Searching in : ', base, totalFiles)\n",
        "    totalFiles = 0"
      ],
      "metadata": {
        "colab": {
          "base_uri": "https://localhost:8080/"
        },
        "id": "ozRYtlhWUEgj",
        "outputId": "f61287b8-b363-43a9-92d0-f3b98850902e"
      },
      "execution_count": null,
      "outputs": [
        {
          "output_type": "stream",
          "name": "stdout",
          "text": [
            "Searching in :  /content/drive/MyDrive/#1Weather_ML_Project/dataset 0\n",
            "Searching in :  /content/drive/MyDrive/#1Weather_ML_Project/dataset/frost 458\n",
            "Searching in :  /content/drive/MyDrive/#1Weather_ML_Project/dataset/fogsmog 615\n",
            "Searching in :  /content/drive/MyDrive/#1Weather_ML_Project/dataset/rain 502\n",
            "Searching in :  /content/drive/MyDrive/#1Weather_ML_Project/dataset/snow 579\n",
            "Searching in :  /content/drive/MyDrive/#1Weather_ML_Project/dataset/cloudy 615\n",
            "Searching in :  /content/drive/MyDrive/#1Weather_ML_Project/dataset/sunny 615\n"
          ]
        }
      ]
    },
    {
      "cell_type": "markdown",
      "source": [
        "Learning os.remove function"
      ],
      "metadata": {
        "id": "R1ut93Jwppw9"
      }
    },
    {
      "cell_type": "code",
      "source": [
        "#this variable os.listdir point to a directory, not an absolute file\n",
        "a = os.listdir(os.path.join(data_dir, 'sunny'))"
      ],
      "metadata": {
        "id": "32yAbYikhENc"
      },
      "execution_count": null,
      "outputs": []
    },
    {
      "cell_type": "markdown",
      "source": [
        "absolute path"
      ],
      "metadata": {
        "id": "nv9jpEvIp3Hb"
      }
    },
    {
      "cell_type": "code",
      "source": [
        "#in an absolute string it was able to remove it\n",
        "#os.remove('/content/drive/MyDrive/#1Weather_ML_Project/dataset/fogsmog/4076.jpg')"
      ],
      "metadata": {
        "id": "T0fKMT2AhMHq"
      },
      "execution_count": null,
      "outputs": []
    },
    {
      "cell_type": "markdown",
      "source": [
        "absolute variable"
      ],
      "metadata": {
        "id": "WytriHJNp5UK"
      }
    },
    {
      "cell_type": "code",
      "source": [
        "#need to try in variable name\n",
        "img_name = '1152.jpg'\n",
        "#absolute path variable\n",
        "image_removable = os.path.join(data_dir, 'sunny', img_name)\n",
        "#os.remove(image_removable)"
      ],
      "metadata": {
        "id": "2SKYEkU8oou7"
      },
      "execution_count": null,
      "outputs": []
    },
    {
      "cell_type": "code",
      "source": [
        "if os.path.exists(image_removable):\n",
        "    print('yo, it exists')\n",
        "else:\n",
        "    print('where is it??? its not here mate')"
      ],
      "metadata": {
        "colab": {
          "base_uri": "https://localhost:8080/"
        },
        "id": "5TsY7kHxhzwB",
        "outputId": "a8fba126-423f-402c-a5dd-f5e1d78c2832"
      },
      "execution_count": null,
      "outputs": [
        {
          "output_type": "stream",
          "name": "stdout",
          "text": [
            "where is it??? its not here mate\n"
          ]
        }
      ]
    },
    {
      "cell_type": "code",
      "source": [
        "#used brake to understand concept before erasing data\n",
        "image_exts = ['jpg', 'jpeg']\n",
        "#gave a name for every features and every image\n",
        "for features in os.listdir(data_dir):\n",
        "    for image in os.listdir(os.path.join(data_dir, features)):\n",
        "        image_path = os.path.join(data_dir, features, image)\n",
        "        try:\n",
        "            img = cv2.imread(image_path) #if its not a valid image\n",
        "            ext = imghdr.what(image_path) #if its not a valid extension\n",
        "            if ext not in image_exts:\n",
        "                print('Image not in ext list', format(image_path))\n",
        "                os.remove(image_path)\n",
        "        except:\n",
        "            print('Issue with image', format(image_path))\n",
        "        "
      ],
      "metadata": {
        "id": "HCrKcuarYTQx"
      },
      "execution_count": null,
      "outputs": []
    },
    {
      "cell_type": "code",
      "source": [
        "#quantity of files inside feature\n",
        "totalFiles_after = 0\n",
        "features_qty = []\n",
        "\n",
        "for base, dirs, files in os.walk(data_dir):\n",
        "    for Files in files:\n",
        "        totalFiles_after += 1\n",
        "    features_qty.append(totalFiles_after)\n",
        "    print('Searching in : ', base, totalFiles_after)\n",
        "    totalFiles_after = 0"
      ],
      "metadata": {
        "colab": {
          "base_uri": "https://localhost:8080/"
        },
        "id": "pDSjfiD2tgKs",
        "outputId": "21ad03f6-ad2f-47de-bd14-f8aa71fc65d8"
      },
      "execution_count": null,
      "outputs": [
        {
          "output_type": "stream",
          "name": "stdout",
          "text": [
            "Searching in :  /content/drive/MyDrive/#1Weather_ML_Project/dataset 0\n",
            "Searching in :  /content/drive/MyDrive/#1Weather_ML_Project/dataset/fogsmog 796\n",
            "Searching in :  /content/drive/MyDrive/#1Weather_ML_Project/dataset/lightning 362\n",
            "Searching in :  /content/drive/MyDrive/#1Weather_ML_Project/dataset/rain 502\n",
            "Searching in :  /content/drive/MyDrive/#1Weather_ML_Project/dataset/sandstorm 660\n",
            "Searching in :  /content/drive/MyDrive/#1Weather_ML_Project/dataset/snow 579\n",
            "Searching in :  /content/drive/MyDrive/#1Weather_ML_Project/dataset/cloudy 719\n",
            "Searching in :  /content/drive/MyDrive/#1Weather_ML_Project/dataset/sunny 903\n",
            "Searching in :  /content/drive/MyDrive/#1Weather_ML_Project/dataset/hail 561\n",
            "Searching in :  /content/drive/MyDrive/#1Weather_ML_Project/dataset/frost 458\n"
          ]
        }
      ]
    },
    {
      "cell_type": "code",
      "source": [
        "features_qty"
      ],
      "metadata": {
        "colab": {
          "base_uri": "https://localhost:8080/"
        },
        "id": "D6iDHMwCkDAq",
        "outputId": "681aae4c-a5e1-4ea5-d293-06a00ec590cf"
      },
      "execution_count": null,
      "outputs": [
        {
          "output_type": "execute_result",
          "data": {
            "text/plain": [
              "[0, 796, 362, 502, 660, 579, 719, 903, 561, 458]"
            ]
          },
          "metadata": {},
          "execution_count": 53
        }
      ]
    },
    {
      "cell_type": "code",
      "source": [
        "features_qty = features_qty[1:]\n",
        "features_average = int(np.mean(features_qty))"
      ],
      "metadata": {
        "id": "OnWjS-gCkk5B"
      },
      "execution_count": null,
      "outputs": []
    },
    {
      "cell_type": "code",
      "source": [
        "features_average"
      ],
      "metadata": {
        "colab": {
          "base_uri": "https://localhost:8080/"
        },
        "id": "zhBiAL_RpGEh",
        "outputId": "13057388-4c76-4e8c-c9a8-4d94f56f3a75"
      },
      "execution_count": null,
      "outputs": [
        {
          "output_type": "execute_result",
          "data": {
            "text/plain": [
              "615"
            ]
          },
          "metadata": {},
          "execution_count": 55
        }
      ]
    },
    {
      "cell_type": "code",
      "source": [
        "feature_name = os.listdir(data_dir)\n",
        "\n",
        "iles = os.listdir('path/to/your/folder')\n",
        "for file in files[:11]:\n",
        "    os.remove(file)"
      ],
      "metadata": {
        "id": "p1Z2B5d4jytL"
      },
      "execution_count": null,
      "outputs": []
    },
    {
      "cell_type": "code",
      "source": [
        "features_qty_before = features_qty"
      ],
      "metadata": {
        "id": "MrvXyn3xtrzJ"
      },
      "execution_count": null,
      "outputs": []
    },
    {
      "cell_type": "code",
      "source": [
        "features_qty_before"
      ],
      "metadata": {
        "colab": {
          "base_uri": "https://localhost:8080/"
        },
        "id": "yo5J8prYtwcU",
        "outputId": "d044f5c0-931e-46f6-dd0d-078258b42da5"
      },
      "execution_count": null,
      "outputs": [
        {
          "output_type": "execute_result",
          "data": {
            "text/plain": [
              "[796, 362, 502, 660, 579, 719, 903, 561, 458]"
            ]
          },
          "metadata": {},
          "execution_count": 67
        }
      ]
    },
    {
      "cell_type": "code",
      "source": [
        "from random import sample\n",
        "\n",
        "#for loop to remove randomly files from features above average\n",
        "for index, values in enumerate(features_qty):\n",
        "    if values > features_average:\n",
        "        print (values, feature_name[index])\n",
        "        #define the index feature and place it in OS\n",
        "        files_to_remove_dir = os.path.join(data_dir, feature_name[index])\n",
        "        files_to_remove_os = os.listdir(files_to_remove_dir)\n",
        "        #define the amount to remove by feature\n",
        "        amount_to_remove = int(values-features_average)\n",
        "        print(amount_to_remove)\n",
        "        #removing the amount define beforehand in a for loop\n",
        "        for image_to_remove in sample(files_to_remove_os, amount_to_remove):\n",
        "            print('it will be removed', image_to_remove)\n",
        "            #apply image name into path to be removed\n",
        "            img_to_rmv_path_dir = os.path.join(files_to_remove_dir, image_to_remove)\n",
        "            print(img_to_rmv_path_dir)\n",
        "            os.remove(img_to_rmv_path_dir)"
      ],
      "metadata": {
        "id": "n7z1J2_xjjTw"
      },
      "execution_count": null,
      "outputs": []
    },
    {
      "cell_type": "code",
      "source": [
        "features_qty_before"
      ],
      "metadata": {
        "colab": {
          "base_uri": "https://localhost:8080/"
        },
        "id": "JF7YgBfmsHZf",
        "outputId": "ced08d02-2f62-4243-e98b-de94f83dcac7"
      },
      "execution_count": null,
      "outputs": [
        {
          "output_type": "execute_result",
          "data": {
            "text/plain": [
              "[796, 362, 502, 660, 579, 719, 903, 561, 458]"
            ]
          },
          "metadata": {},
          "execution_count": 76
        }
      ]
    },
    {
      "cell_type": "code",
      "source": [
        "#quantity of files inside feature\n",
        "totalFiles_after = 0\n",
        "features_qty = []\n",
        "\n",
        "for base, dirs, files in os.walk(data_dir):\n",
        "    for Files in files:\n",
        "        totalFiles_after += 1\n",
        "    features_qty.append(totalFiles_after)\n",
        "    print('Searching in : ', base, totalFiles_after)\n",
        "    totalFiles_after = 0"
      ],
      "metadata": {
        "colab": {
          "base_uri": "https://localhost:8080/"
        },
        "id": "M5c5VwR6wuv8",
        "outputId": "073f2e44-df56-4e3a-ddd9-8ac27b3f5885"
      },
      "execution_count": null,
      "outputs": [
        {
          "output_type": "stream",
          "name": "stdout",
          "text": [
            "Searching in :  /content/drive/MyDrive/#1Weather_ML_Project/dataset 0\n",
            "Searching in :  /content/drive/MyDrive/#1Weather_ML_Project/dataset/fogsmog 615\n",
            "Searching in :  /content/drive/MyDrive/#1Weather_ML_Project/dataset/lightning 362\n",
            "Searching in :  /content/drive/MyDrive/#1Weather_ML_Project/dataset/rain 502\n",
            "Searching in :  /content/drive/MyDrive/#1Weather_ML_Project/dataset/sandstorm 615\n",
            "Searching in :  /content/drive/MyDrive/#1Weather_ML_Project/dataset/snow 579\n",
            "Searching in :  /content/drive/MyDrive/#1Weather_ML_Project/dataset/cloudy 615\n",
            "Searching in :  /content/drive/MyDrive/#1Weather_ML_Project/dataset/sunny 615\n",
            "Searching in :  /content/drive/MyDrive/#1Weather_ML_Project/dataset/hail 561\n",
            "Searching in :  /content/drive/MyDrive/#1Weather_ML_Project/dataset/frost 458\n"
          ]
        }
      ]
    },
    {
      "cell_type": "code",
      "source": [
        "#after\n",
        "features_qty"
      ],
      "metadata": {
        "colab": {
          "base_uri": "https://localhost:8080/"
        },
        "id": "VlrzPmbvw0Ya",
        "outputId": "f668b7b1-f8f9-44d1-ff1f-f1cd0276d240"
      },
      "execution_count": null,
      "outputs": [
        {
          "output_type": "execute_result",
          "data": {
            "text/plain": [
              "[0, 615, 362, 502, 615, 579, 615, 615, 561, 458]"
            ]
          },
          "metadata": {},
          "execution_count": 77
        }
      ]
    },
    {
      "cell_type": "code",
      "source": [
        "#just to check\n",
        "img = cv2.imread(os.path.join(files_to_remove_dir, '1153.jpg'))\n",
        "plt.imshow(cv2.cvtColor(img, cv2.COLOR_BGR2RGB))\n",
        "plt.show"
      ],
      "metadata": {
        "colab": {
          "base_uri": "https://localhost:8080/",
          "height": 286
        },
        "id": "VnM-UFcbxwrb",
        "outputId": "8db368c2-d4e4-4316-f27d-cc2c5130703f"
      },
      "execution_count": null,
      "outputs": [
        {
          "output_type": "execute_result",
          "data": {
            "text/plain": [
              "<function matplotlib.pyplot.show(*args, **kw)>"
            ]
          },
          "metadata": {},
          "execution_count": 84
        },
        {
          "output_type": "display_data",
          "data": {
            "text/plain": [
              "<Figure size 432x288 with 1 Axes>"
            ],
            "image/png": "[encoded data removed]"
          },
          "metadata": {
            "needs_background": "light"
          }
        }
      ]
    },
    {
      "cell_type": "markdown",
      "source": [
        "## USING KERAS & BATCH"
      ],
      "metadata": {
        "id": "eFUNedeA0xWP"
      }
    },
    {
      "cell_type": "code",
      "source": [
        "#from tensorflow import keras\n",
        "#from tensorflow.keras import layers\n",
        "#from tensorflow.keras.preprocessing.image import ImageDataGenerator"
      ],
      "metadata": {
        "id": "acgBuPPjLMnC"
      },
      "execution_count": null,
      "outputs": []
    },
    {
      "cell_type": "markdown",
      "source": [
        "Use Keras Utils with Batch and Resize associated to the data"
      ],
      "metadata": {
        "id": "Rj5l9IvypCLI"
      }
    },
    {
      "cell_type": "code",
      "source": [
        "#labels and classes already built with keras utils \n",
        "#plus batch size already in 32 and image size 256,256 + shuffle\n",
        "#its a pipeline\n",
        "#on the fly\n",
        "Data = tf.keras.utils.image_dataset_from_directory(data_dir)\n",
        "#transform data on the fly using numpy (to acess to it)\n",
        "#this allows to loop\n",
        "Data_Iterator = Data.as_numpy_iterator()\n",
        "#this is allowing get one batch \n",
        "batch = Data_Iterator.next()"
      ],
      "metadata": {
        "colab": {
          "base_uri": "https://localhost:8080/"
        },
        "id": "lJsUBI61g_xM",
        "outputId": "5354c829-17e6-45d6-98a8-a059f7f7ad85"
      },
      "execution_count": 4,
      "outputs": [
        {
          "output_type": "stream",
          "name": "stdout",
          "text": [
            "Found 3222 files belonging to 6 classes.\n"
          ]
        }
      ]
    },
    {
      "cell_type": "code",
      "source": [
        "batch[0].shape\n",
        "#data_scaled = Data.map(lambda x,y: (x/256, y))\n",
        "#x is images"
      ],
      "metadata": {
        "colab": {
          "base_uri": "https://localhost:8080/"
        },
        "id": "cqJqFUHoHMv5",
        "outputId": "a806d33e-6e88-435e-bd23-c628f419bae1"
      },
      "execution_count": 5,
      "outputs": [
        {
          "output_type": "execute_result",
          "data": {
            "text/plain": [
              "(32, 256, 256, 3)"
            ]
          },
          "metadata": {},
          "execution_count": 5
        }
      ]
    },
    {
      "cell_type": "code",
      "source": [
        "#define layout chart\n",
        "#need to improve this set - apply more rows and apply labels refering to number ID\n",
        "fig, ax = plt.subplots(nrows=2, ncols=10, figsize=(20,20))\n",
        "#loop through batch. for every index and image\n",
        "for idx, img in enumerate(batch[0][:10]):\n",
        "    ax[idx].imshow(img.astype(int)) #doubt in astype int. Otherwise it would get exponents (not applicable by matplotlib)\n",
        "    ax[idx].title.set_text(batch[1][idx])"
      ],
      "metadata": {
        "colab": {
          "base_uri": "https://localhost:8080/",
          "height": 1000
        },
        "id": "dQyBTuYHi_K0",
        "outputId": "7f17513a-a29c-4509-8ea8-7dfb38f9e3e2"
      },
      "execution_count": 21,
      "outputs": [
        {
          "output_type": "error",
          "ename": "AttributeError",
          "evalue": "ignored",
          "traceback": [
            "\u001b[0;31m---------------------------------------------------------------------------\u001b[0m",
            "\u001b[0;31mAttributeError\u001b[0m                            Traceback (most recent call last)",
            "\u001b[0;32m<ipython-input-21-9ce7bc1498c5>\u001b[0m in \u001b[0;36m<module>\u001b[0;34m\u001b[0m\n\u001b[1;32m      4\u001b[0m \u001b[0;31m#loop through batch. for every index and image\u001b[0m\u001b[0;34m\u001b[0m\u001b[0;34m\u001b[0m\u001b[0;34m\u001b[0m\u001b[0m\n\u001b[1;32m      5\u001b[0m \u001b[0;32mfor\u001b[0m \u001b[0midx\u001b[0m\u001b[0;34m,\u001b[0m \u001b[0mimg\u001b[0m \u001b[0;32min\u001b[0m \u001b[0menumerate\u001b[0m\u001b[0;34m(\u001b[0m\u001b[0mbatch\u001b[0m\u001b[0;34m[\u001b[0m\u001b[0;36m0\u001b[0m\u001b[0;34m]\u001b[0m\u001b[0;34m[\u001b[0m\u001b[0;34m:\u001b[0m\u001b[0;36m30\u001b[0m\u001b[0;34m]\u001b[0m\u001b[0;34m)\u001b[0m\u001b[0;34m:\u001b[0m\u001b[0;34m\u001b[0m\u001b[0;34m\u001b[0m\u001b[0m\n\u001b[0;32m----> 6\u001b[0;31m     \u001b[0max\u001b[0m\u001b[0;34m[\u001b[0m\u001b[0midx\u001b[0m\u001b[0;34m]\u001b[0m\u001b[0;34m.\u001b[0m\u001b[0mimshow\u001b[0m\u001b[0;34m(\u001b[0m\u001b[0mimg\u001b[0m\u001b[0;34m.\u001b[0m\u001b[0mastype\u001b[0m\u001b[0;34m(\u001b[0m\u001b[0mint\u001b[0m\u001b[0;34m)\u001b[0m\u001b[0;34m)\u001b[0m \u001b[0;31m#doubt in astype int. Otherwise it would get exponents (not applicable by matplotlib)\u001b[0m\u001b[0;34m\u001b[0m\u001b[0;34m\u001b[0m\u001b[0m\n\u001b[0m\u001b[1;32m      7\u001b[0m     \u001b[0max\u001b[0m\u001b[0;34m[\u001b[0m\u001b[0midx\u001b[0m\u001b[0;34m]\u001b[0m\u001b[0;34m.\u001b[0m\u001b[0mtitle\u001b[0m\u001b[0;34m.\u001b[0m\u001b[0mset_text\u001b[0m\u001b[0;34m(\u001b[0m\u001b[0mbatch\u001b[0m\u001b[0;34m[\u001b[0m\u001b[0;36m1\u001b[0m\u001b[0;34m]\u001b[0m\u001b[0;34m[\u001b[0m\u001b[0midx\u001b[0m\u001b[0;34m]\u001b[0m\u001b[0;34m)\u001b[0m\u001b[0;34m\u001b[0m\u001b[0;34m\u001b[0m\u001b[0m\n",
            "\u001b[0;31mAttributeError\u001b[0m: 'numpy.ndarray' object has no attribute 'imshow'"
          ]
        },
        {
          "output_type": "display_data",
          "data": {
            "text/plain": [
              "<Figure size 1440x1440 with 20 Axes>"
            ],
            "image/png": "[encoded data removed]"
          },
          "metadata": {
            "needs_background": "light"
          }
        }
      ]
    },
    {
      "cell_type": "markdown",
      "source": [
        "*   0 cloudy\n",
        "*   1 fogsmog\n",
        "*   2 frost\n",
        "*   3 rain\n",
        "*   4 snow\n",
        "*   5 sunny\n",
        "\n",
        "\n",
        "\n"
      ],
      "metadata": {
        "id": "8ya5QOhHmAA7"
      }
    },
    {
      "cell_type": "markdown",
      "source": [
        "Lets Split Data for Model Training"
      ],
      "metadata": {
        "id": "m6-4NpLdpJZv"
      }
    },
    {
      "cell_type": "code",
      "source": [
        "#prevent out of memory error OOM\n",
        "#this will be not use since we are using google colab\n",
        "gpus = tf.config.experimental.list_physical_devices('GPU)')\n",
        "for gpu in gpus:\n",
        "    tf.config.experimental.set_memory_growth(gpu,True)"
      ],
      "metadata": {
        "id": "oZM40Kcl47NJ"
      },
      "execution_count": 12,
      "outputs": []
    },
    {
      "cell_type": "code",
      "source": [
        "import tensorflow as tf\n",
        "from tensorflow import keras\n",
        "from tensorflow.keras import layers, models\n",
        "\n",
        "from tensorflow.keras.layers import Input, Lambda, Dense, Flatten\n",
        "from tensorflow.keras.models import Model\n",
        "from tensorflow.keras.models import Sequential\n",
        "\n",
        "from keras.preprocessing.image import ImageDataGenerator\n",
        "from tensorflow.keras.preprocessing import image_dataset_from_directory\n",
        "from tensorflow.keras import preprocessing"
      ],
      "metadata": {
        "id": "V9eRQdn-MEaT"
      },
      "execution_count": 13,
      "outputs": []
    },
    {
      "cell_type": "code",
      "source": [
        "#JUST TO MESS AROUND\n",
        "imageaug = ImageDataGenerator(\n",
        "    rotation_range=90,\n",
        "    shear_range=0.2,\n",
        "    zoom_range=0.2,\n",
        "   horizontal_flip=True,\n",
        ")"
      ],
      "metadata": {
        "id": "9r9exxs45R68"
      },
      "execution_count": 18,
      "outputs": []
    },
    {
      "cell_type": "code",
      "source": [
        "imageaug.flow_from_directory(data_dir, batch_size=2, save_to_dir=data_dir, save_prefix='aug', save_format='jpeg')"
      ],
      "metadata": {
        "colab": {
          "base_uri": "https://localhost:8080/"
        },
        "id": "ULRWKSng8nIW",
        "outputId": "d1e902b0-11be-4335-bb78-39bb5e683084"
      },
      "execution_count": 23,
      "outputs": [
        {
          "output_type": "stream",
          "name": "stdout",
          "text": [
            "Found 3222 images belonging to 6 classes.\n"
          ]
        },
        {
          "output_type": "execute_result",
          "data": {
            "text/plain": [
              "<keras.preprocessing.image.DirectoryIterator at 0x7fee040e5700>"
            ]
          },
          "metadata": {},
          "execution_count": 23
        }
      ]
    },
    {
      "cell_type": "code",
      "source": [
        "# this is the augmentation configuration we will use for training, can be use a lot of image treatment\n",
        "train_datagen = ImageDataGenerator(rescale=1./256, validation_split=0.1)\n",
        "\n",
        "# this is the augmentation configuration we will use for testing:\n",
        "test_datagen = ImageDataGenerator(rescale=1./256, validation_split=0.1)\n",
        "\n",
        "# this is a similar generator, for validation data\n",
        "validation_generator = test_datagen.flow_from_directory(data_dir, subset = 'validation', batch_size=64)\n",
        "train_generator = train_datagen.flow_from_directory(data_dir, subset= 'training', batch_size=64)"
      ],
      "metadata": {
        "colab": {
          "base_uri": "https://localhost:8080/"
        },
        "id": "e9m6r3N8Mbzj",
        "outputId": "42d78817-6cb5-4ce7-aa3c-009f6e992098"
      },
      "execution_count": null,
      "outputs": [
        {
          "output_type": "stream",
          "name": "stdout",
          "text": [
            "Found 319 images belonging to 6 classes.\n",
            "Found 2903 images belonging to 6 classes.\n"
          ]
        }
      ]
    },
    {
      "cell_type": "code",
      "source": [
        "from tensorflow.python.keras.layers.convolutional import MaxPooling2D\n",
        "#Standard CNN Model with Layers of Weights and a softmax at the end\n",
        "standard_model = models.Sequential()\n",
        "#standard_model.add(layers.AveragePooling2D((6,3), input_shape = [256, 256, 3])) #check block by block and reduce input shape size\n",
        "standard_model.add(layers.Conv2D(32, (3,3), activation = 'relu', input_shape = [256, 256, 3]))\n",
        "standard_model.add(layers.MaxPooling2D())\n",
        "#standard_model.add(layers.Dropout(0.5)) #increase sampling and reduce overfitting\n",
        "standard_model.add(layers.Conv2D(64, (2, 2), activation='relu'))\n",
        "standard_model.add(layers.MaxPooling2D())\n",
        "standard_model.add(layers.Conv2D(64, (2, 2), activation='relu'))\n",
        "standard_model.add(layers.Flatten())\n",
        "standard_model.add(layers.Dense(25, activation='relu'))\n",
        "standard_model.add(layers.Dense(6, activation ='softmax')) #transform data into 9 parameters previously selected"
      ],
      "metadata": {
        "id": "dcxc8NY_il5B"
      },
      "execution_count": null,
      "outputs": []
    },
    {
      "cell_type": "code",
      "source": [
        "#opt_adam = keras.optimizers.Adam(learning_rate=0.01)\n",
        "#compile model with type of optimizer, losses and metrics\n",
        "standard_model.compile(optimizer= 'Adam',\n",
        "             loss = 'CategoricalCrossentropy',\n",
        "             metrics=['accuracy'])\n",
        "#SparseCategoricalCrossentropy for integers\n",
        "#CategoricalCrossentropy for one Hot Encoding\n",
        "#binary_crossentropy\n",
        "#KLDivergence\n",
        "\n",
        "callback = keras.callbacks.EarlyStopping(monitor='val_loss',\n",
        "                                       patience=21,\n",
        "                                       restore_best_weights=True)\n",
        "#patience=1,"
      ],
      "metadata": {
        "id": "9dMtXef5LK6E"
      },
      "execution_count": null,
      "outputs": []
    },
    {
      "cell_type": "code",
      "source": [
        "standard_model.summary()"
      ],
      "metadata": {
        "colab": {
          "base_uri": "https://localhost:8080/"
        },
        "id": "ACf-r9Qpcr8C",
        "outputId": "bbf67ada-3240-40fc-9833-4245fa5cfba7"
      },
      "execution_count": null,
      "outputs": [
        {
          "output_type": "stream",
          "name": "stdout",
          "text": [
            "Model: \"sequential_22\"\n",
            "_________________________________________________________________\n",
            " Layer (type)                Output Shape              Param #   \n",
            "=================================================================\n",
            " conv2d_106 (Conv2D)         (None, 254, 254, 32)      896       \n",
            "                                                                 \n",
            " max_pooling2d_56 (MaxPoolin  (None, 127, 127, 32)     0         \n",
            " g2D)                                                            \n",
            "                                                                 \n",
            " conv2d_107 (Conv2D)         (None, 126, 126, 64)      8256      \n",
            "                                                                 \n",
            " max_pooling2d_57 (MaxPoolin  (None, 63, 63, 64)       0         \n",
            " g2D)                                                            \n",
            "                                                                 \n",
            " conv2d_108 (Conv2D)         (None, 62, 62, 64)        16448     \n",
            "                                                                 \n",
            " flatten_22 (Flatten)        (None, 246016)            0         \n",
            "                                                                 \n",
            " dense_53 (Dense)            (None, 25)                6150425   \n",
            "                                                                 \n",
            " dense_54 (Dense)            (None, 6)                 156       \n",
            "                                                                 \n",
            "=================================================================\n",
            "Total params: 6,176,181\n",
            "Trainable params: 6,176,181\n",
            "Non-trainable params: 0\n",
            "_________________________________________________________________\n"
          ]
        }
      ]
    },
    {
      "cell_type": "code",
      "source": [
        "#124 samples of 32 batch size\n",
        "#Train the model - the fun begins\n",
        "standard_model.fit(train_generator, validation_data = validation_generator, epochs = 20, callbacks=callback)"
      ],
      "metadata": {
        "colab": {
          "base_uri": "https://localhost:8080/"
        },
        "id": "cVDwuy5SLYUt",
        "outputId": "94f2a552-e89c-4ab8-ea57-270776579972"
      },
      "execution_count": null,
      "outputs": [
        {
          "output_type": "stream",
          "name": "stdout",
          "text": [
            "Epoch 1/20\n",
            "46/46 [==============================] - 29s 594ms/step - loss: 1.5426 - accuracy: 0.4003 - val_loss: 1.0813 - val_accuracy: 0.6238\n",
            "Epoch 2/20\n",
            "46/46 [==============================] - 27s 576ms/step - loss: 0.8869 - accuracy: 0.6886 - val_loss: 0.9778 - val_accuracy: 0.6489\n",
            "Epoch 3/20\n",
            "46/46 [==============================] - 30s 663ms/step - loss: 0.6828 - accuracy: 0.7654 - val_loss: 0.8382 - val_accuracy: 0.6395\n",
            "Epoch 4/20\n",
            "46/46 [==============================] - 26s 570ms/step - loss: 0.5001 - accuracy: 0.8240 - val_loss: 0.8816 - val_accuracy: 0.6426\n",
            "Epoch 5/20\n",
            "46/46 [==============================] - 26s 571ms/step - loss: 0.3010 - accuracy: 0.9001 - val_loss: 0.8679 - val_accuracy: 0.7022\n",
            "Epoch 6/20\n",
            "46/46 [==============================] - 26s 568ms/step - loss: 0.1671 - accuracy: 0.9511 - val_loss: 1.0191 - val_accuracy: 0.6834\n",
            "Epoch 7/20\n",
            "27/46 [================>.............] - ETA: 9s - loss: 0.0897 - accuracy: 0.9774 "
          ]
        }
      ]
    },
    {
      "cell_type": "code",
      "source": [
        "#Check Status - Performance\n",
        "loss, accuracy = standard_model.evaluate(validation_generator)\n",
        "print(\"Loss: \", loss)\n",
        "print(\"Accuracy: \", accuracy)\n"
      ],
      "metadata": {
        "id": "ylgTGfrTLZfC",
        "colab": {
          "base_uri": "https://localhost:8080/"
        },
        "outputId": "a6789670-9653-4f4e-885c-78b7491580d1"
      },
      "execution_count": null,
      "outputs": [
        {
          "output_type": "stream",
          "name": "stdout",
          "text": [
            "10/10 [==============================] - 3s 264ms/step - loss: 2.6979 - accuracy: 0.6332\n",
            "Loss:  2.6979215145111084\n",
            "Accuracy:  0.6332288384437561\n"
          ]
        }
      ]
    },
    {
      "cell_type": "code",
      "source": [
        "#Saving Model for future Use\n",
        "standard_model.save('/content/drive/MyDrive/#1Weather_ML_Project/76_MLModel_Weather_Check')"
      ],
      "metadata": {
        "id": "MwFOha3NLbcr"
      },
      "execution_count": null,
      "outputs": []
    },
    {
      "cell_type": "markdown",
      "source": [
        "## TESTING MODEL\n"
      ],
      "metadata": {
        "id": "4brN1HM09Df_"
      }
    },
    {
      "cell_type": "code",
      "source": [
        "#Upload Model for future Use\n",
        "model = keras.models.load_model('/content/drive/MyDrive/#1Weather_ML_Project/76_MLModel_Weather_Check')"
      ],
      "metadata": {
        "id": "vqKD9YW8LdHV"
      },
      "execution_count": null,
      "outputs": []
    },
    {
      "cell_type": "code",
      "source": [
        "test_dir = '/content/drive/MyDrive/#1Weather_ML_Project/Test'\n",
        "#confirm features\n",
        "os.listdir(test_dir)\n",
        "#confirm sub_features\n",
        "#os.listdir(os.path.join(data_dir, 'fogsmog'))"
      ],
      "metadata": {
        "colab": {
          "base_uri": "https://localhost:8080/"
        },
        "id": "DS_wyF8U8p1x",
        "outputId": "291fc408-eedc-4112-f7f8-d46beb82305c"
      },
      "execution_count": null,
      "outputs": [
        {
          "output_type": "execute_result",
          "data": {
            "text/plain": [
              "['Sunny.jpg',\n",
              " 'Sunny2.jpg',\n",
              " 'Rain.jpg',\n",
              " 'frost.jpg',\n",
              " 'snow.jpg',\n",
              " 'inkscape.exe',\n",
              " 'fogsmog.jpg',\n",
              " 'cloudy.jpg']"
            ]
          },
          "metadata": {},
          "execution_count": 164
        }
      ]
    },
    {
      "cell_type": "code",
      "source": [
        "#import image and transform no numpy\n",
        "import imageio\n",
        "\n",
        "test_image1 = imageio.imread('/content/drive/MyDrive/#1Weather_ML_Project/Test/cloudy.jpg')\n",
        "test_image_np = np.asarray(test_image1)\n",
        "test_image_np = np.resize(test_image_np, (256, 256, 3))\n",
        "test_image_np = np.expand_dims(test_image_np, axis=0)"
      ],
      "metadata": {
        "id": "LzMwPvHO_wqY"
      },
      "execution_count": null,
      "outputs": []
    },
    {
      "cell_type": "code",
      "source": [
        "print(test_image_np.shape)"
      ],
      "metadata": {
        "colab": {
          "base_uri": "https://localhost:8080/"
        },
        "id": "Zv3cn9mTBWjh",
        "outputId": "88cd35d2-331f-4fb9-84cf-56931e36ce94"
      },
      "execution_count": null,
      "outputs": [
        {
          "output_type": "stream",
          "name": "stdout",
          "text": [
            "(1, 256, 256, 3)\n"
          ]
        }
      ]
    },
    {
      "cell_type": "code",
      "source": [
        "prediction = model.predict(test_image_np)"
      ],
      "metadata": {
        "id": "bF20broj9Cac"
      },
      "execution_count": null,
      "outputs": []
    },
    {
      "cell_type": "code",
      "source": [
        "print(prediction)"
      ],
      "metadata": {
        "id": "-hUIvGssA0Jr",
        "colab": {
          "base_uri": "https://localhost:8080/"
        },
        "outputId": "4a42c8c3-0c0a-4d9c-a018-44e0b960e4db"
      },
      "execution_count": null,
      "outputs": [
        {
          "output_type": "stream",
          "name": "stdout",
          "text": [
            "[[0. 0. 0. 1. 0. 0.]]\n"
          ]
        }
      ]
    },
    {
      "cell_type": "markdown",
      "source": [
        "*   0 cloudy\n",
        "*   1 fogsmog\n",
        "*   2 frost\n",
        "*   3 rain\n",
        "*   4 snow\n",
        "*   5 sunny\n",
        "\n",
        "\n",
        "\n"
      ],
      "metadata": {
        "id": "3b6QDgt3KMsJ"
      }
    },
    {
      "cell_type": "markdown",
      "source": [
        "Create a function to translate integer to information"
      ],
      "metadata": {
        "id": "Xn9XuGZiIpaW"
      }
    },
    {
      "cell_type": "code",
      "source": [
        "weather_info = ['cloudy','fogsmog','frost','rain','snow','sunny']\n",
        "\n",
        "weather_info = np.array(weather_info)"
      ],
      "metadata": {
        "id": "l9K3Q-PKA6rn"
      },
      "execution_count": null,
      "outputs": []
    },
    {
      "cell_type": "code",
      "source": [
        "prediction.shape"
      ],
      "metadata": {
        "colab": {
          "base_uri": "https://localhost:8080/"
        },
        "id": "Af1VT31tIh3r",
        "outputId": "b1a120e8-5dbb-4f8b-8a3c-cfe519260203"
      },
      "execution_count": null,
      "outputs": [
        {
          "output_type": "execute_result",
          "data": {
            "text/plain": [
              "(1, 6)"
            ]
          },
          "metadata": {},
          "execution_count": 200
        }
      ]
    },
    {
      "cell_type": "code",
      "source": [
        "prediction_flatten = prediction.flatten()"
      ],
      "metadata": {
        "id": "NVYjbHdpIRMy"
      },
      "execution_count": null,
      "outputs": []
    },
    {
      "cell_type": "code",
      "source": [
        "prediction_flatten.shape"
      ],
      "metadata": {
        "colab": {
          "base_uri": "https://localhost:8080/"
        },
        "id": "xwxZzLGSA6w7",
        "outputId": "ce2e012f-7850-428e-fe04-e86025451aeb"
      },
      "execution_count": null,
      "outputs": [
        {
          "output_type": "execute_result",
          "data": {
            "text/plain": [
              "(6,)"
            ]
          },
          "metadata": {},
          "execution_count": 202
        }
      ]
    },
    {
      "cell_type": "code",
      "source": [
        "result = np.where(prediction_flatten == 1)\n",
        "result = result[0].astype(int)\n",
        "weather_info[result][0]"
      ],
      "metadata": {
        "id": "6s3CMX9OKe28",
        "colab": {
          "base_uri": "https://localhost:8080/",
          "height": 35
        },
        "outputId": "0ae8a44d-888f-40a5-98df-93377aab1ec7"
      },
      "execution_count": null,
      "outputs": [
        {
          "output_type": "execute_result",
          "data": {
            "text/plain": [
              "'rain'"
            ],
            "application/vnd.google.colaboratory.intrinsic+json": {
              "type": "string"
            }
          },
          "metadata": {},
          "execution_count": 203
        }
      ]
    },
    {
      "cell_type": "code",
      "source": [
        "weather_prediction_model = weather_info[result][0]\n",
        "print('Weather Predicted Is : ', weather_prediction_model)"
      ],
      "metadata": {
        "colab": {
          "base_uri": "https://localhost:8080/"
        },
        "id": "RTmn7x73A6pF",
        "outputId": "6e61cd45-ca79-4f89-e6a1-f24576af6d8c"
      },
      "execution_count": null,
      "outputs": [
        {
          "output_type": "stream",
          "name": "stdout",
          "text": [
            "Weather Predicted Is :  rain\n"
          ]
        }
      ]
    },
    {
      "cell_type": "markdown",
      "source": [
        "Next STEP: Improve Model Efficiency"
      ],
      "metadata": {
        "id": "gqrtYr6LN3Jr"
      }
    },
    {
      "cell_type": "code",
      "source": [],
      "metadata": {
        "id": "qoznkSkHKmm7"
      },
      "execution_count": null,
      "outputs": []
    }
  ]
}